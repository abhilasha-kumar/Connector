{
  "cells": [
    {
      "cell_type": "markdown",
      "metadata": {
        "id": "view-in-github",
        "colab_type": "text"
      },
      "source": [
        "<a href=\"https://colab.research.google.com/github/abhilasha-kumar/Connector/blob/master/search-models/search_models.ipynb\" target=\"_parent\"><img src=\"https://colab.research.google.com/assets/colab-badge.svg\" alt=\"Open In Colab\"/></a>"
      ]
    },
    {
      "cell_type": "markdown",
      "metadata": {
        "id": "LH3K3UX0r_uM"
      },
      "source": [
        "# Cloning git repository"
      ]
    },
    {
      "cell_type": "code",
      "source": [
        "!git clone https://github.com/abhilasha-kumar/Connector.git"
      ],
      "metadata": {
        "colab": {
          "base_uri": "https://localhost:8080/"
        },
        "id": "RU7It8y3eUZ4",
        "outputId": "f0a5989d-4e1d-4e71-c2d9-f6953f2e93ff"
      },
      "execution_count": 1,
      "outputs": [
        {
          "output_type": "stream",
          "name": "stdout",
          "text": [
            "Cloning into 'Connector'...\n",
            "remote: Enumerating objects: 1029, done.\u001b[K\n",
            "remote: Counting objects: 100% (127/127), done.\u001b[K\n",
            "remote: Compressing objects: 100% (99/99), done.\u001b[K\n",
            "remote: Total 1029 (delta 64), reused 66 (delta 27), pack-reused 902\u001b[K\n",
            "Receiving objects: 100% (1029/1029), 76.21 MiB | 18.32 MiB/s, done.\n",
            "Resolving deltas: 100% (514/514), done.\n",
            "Checking out files: 100% (218/218), done.\n"
          ]
        }
      ]
    },
    {
      "cell_type": "markdown",
      "metadata": {
        "id": "54ZMyOWfsEGS"
      },
      "source": [
        "# Importing embeddings & vocabulary"
      ]
    },
    {
      "cell_type": "code",
      "execution_count": 4,
      "metadata": {
        "colab": {
          "base_uri": "https://localhost:8080/"
        },
        "id": "BxoEmRAHPuDn",
        "outputId": "630c6df0-4040-4232-ee91-f57cffa73b44"
      },
      "outputs": [
        {
          "output_type": "stream",
          "name": "stdout",
          "text": [
            "/content/Connector/connector-cogsci2021/data\n",
            "embeddings are shaped: (12218, 300)\n",
            "vocab is 12218 words\n"
          ]
        }
      ],
      "source": [
        "# import glove embeddings\n",
        "import pandas as pd\n",
        "import json\n",
        "import numpy as np\n",
        "%cd /content/Connector/connector-cogsci2021/data\n",
        "representations = {}\n",
        "representations['glove'] = pd.read_csv(\"glove_embeddings.csv\").transpose().values\n",
        "vocab = pd.read_csv(\"vocab.csv\").rename(columns={\"Word\": \"vocab_word\"})\n",
        "print(f\"embeddings are shaped:\", representations['glove'].shape)\n",
        "print(f\"vocab is {len(vocab)} words\")\n",
        "with open('boards.json', 'r') as json_file:\n",
        "    boards = json.load(json_file)"
      ]
    },
    {
      "cell_type": "markdown",
      "metadata": {
        "id": "urqF5SZjsF7h"
      },
      "source": [
        "# Importing search & RSA functions\n",
        "\n",
        "These functions have been predefined and are stored in the search-models subdirectory in the github repository, so we directly load them here."
      ]
    },
    {
      "cell_type": "code",
      "source": [
        "%cd /content/Connector/search-models\n",
        "import search_funcs"
      ],
      "metadata": {
        "id": "e6zR_CdWKYnE",
        "outputId": "fcd3f0b4-4c11-4437-9266-ca5c8841ed62",
        "colab": {
          "base_uri": "https://localhost:8080/"
        }
      },
      "execution_count": 5,
      "outputs": [
        {
          "output_type": "stream",
          "name": "stdout",
          "text": [
            "/content/Connector/search-models\n"
          ]
        }
      ]
    },
    {
      "cell_type": "markdown",
      "source": [
        "# Constructing similarity matrix & Graph"
      ],
      "metadata": {
        "id": "iHSQU9ln8LBB"
      }
    },
    {
      "cell_type": "code",
      "source": [
        "threshold = 0.4\n",
        "sim_matrix_glove = search_funcs.search.create_similarity_matrix(representations['glove'])\n",
        "Graph = search_funcs.search.create_graph(sim_matrix_glove, threshold)\n",
        "board_combos = {board_name : search_funcs.RSA.compute_board_combos(board_name,boards) for board_name in boards.keys()}"
      ],
      "metadata": {
        "id": "LTu8Gi5uzzrO"
      },
      "execution_count": 6,
      "outputs": []
    },
    {
      "cell_type": "markdown",
      "metadata": {
        "id": "c46cGdcHMM2q"
      },
      "source": [
        "# Running an example"
      ]
    },
    {
      "cell_type": "code",
      "source": [
        "target = 'exam-algebra'\n",
        "w1, w2 = target.split(sep = \"-\")\n",
        "n_steps = 5\n",
        "n_walks = 50\n",
        "# computing union and intersection of independent walks\n",
        "\n",
        "u, i = search_funcs.search.union_intersection(w1,w2, n_steps, n_walks, vocab, Graph)\n",
        "\n",
        "union_candidates = list(u.vocab_word)\n",
        "int_candidates = list(i.vocab_word)\n",
        "\n",
        "print(f\"{len(u)} items in union: {union_candidates}\")\n",
        "print(f\"{len(i)} items in intersection: {int_candidates}\")\n",
        "\n",
        "clue = 'mathematics'\n",
        "n = 5\n",
        "wordpairlist = search_funcs.RSA.get_wordpair_list(board_combos, 'e1_board1_words')\n",
        "target_index = wordpairlist.index(target)\n",
        "clue_index = list(vocab[\"vocab_word\"]).index(clue)\n",
        "\n",
        "print(f\"for wordpair {target} and clue {clue}\")\n",
        "\n",
        "## compute predictions on FULL vocab\n",
        "\n",
        "print(f\"ON FULL VOCAB\")\n",
        "\n",
        "a = search_funcs.RSA.literal_guesser('e1_board1_words', representations, list(vocab.vocab_word) , vocab, boards)[:,clue_index]\n",
        "y = search_funcs.RSA.pragmatic_speaker('e1_board1_words', 18.858, 0.004, representations,list(vocab.vocab_word) , vocab, boards)\n",
        "\n",
        "print(\"literal guesser prediction is:\", wordpairlist[np.argmax(a)])\n",
        "top = y[target_index,:].argsort()[-n:][::-1].tolist()\n",
        "top_words = [list(vocab[\"vocab_word\"])[x] for x in top]\n",
        "print(f\"top {n} prag speaker predictions are:\", top_words)\n",
        "\n",
        "print(f\"ON CANDIDATES\")\n",
        "\n",
        "b_union = search_funcs.RSA.literal_guesser('e1_board1_words', representations, union_candidates, vocab, boards)[:, union_candidates.index(clue)]\n",
        "c_union = search_funcs.RSA.pragmatic_speaker('e1_board1_words', 18.858, 0.004, representations, union_candidates, vocab, boards)\n",
        "\n",
        "b_int = search_funcs.RSA.literal_guesser('e1_board1_words', representations, int_candidates, vocab, boards)[:, int_candidates.index(clue)]\n",
        "c_int = search_funcs.RSA.pragmatic_speaker('e1_board1_words', 18.858, 0.004, representations, int_candidates, vocab, boards)\n",
        "\n",
        "print(\"GUESSER candidate UNION prediction is:\", wordpairlist[np.argmax(b_union)])\n",
        "print(\"GUESSER candidate INTERSECTION prediction is:\", wordpairlist[np.argmax(b_int)])\n",
        "\n",
        "top = c_union[target_index,:].argsort()[-n:][::-1].tolist()\n",
        "top_words = [list(u.vocab_word)[x] for x in top]\n",
        "print(f\"top {n} SPEAKER candidate UNION are:\", top_words)\n",
        "\n",
        "top = c_int[target_index,:].argsort()[-n:][::-1].tolist()\n",
        "top_words = [list(i.vocab_word)[x] for x in top]\n",
        "print(f\"top {n} prag SPEAKER candidate INTERSECTION are:\", top_words)\n",
        "\n",
        "print(f\"SIMPLE UNION/INTERSECTION\")\n",
        "print(f\"considering top {n} nodes visited by union and intersection...\")\n",
        "print(f\"highly visited nodes in the union: {union_candidates[:n]}\")\n",
        "print(f\"highly visited nodes in the intersection: {int_candidates[:n]}\")\n",
        "\n"
      ],
      "metadata": {
        "id": "_fD4ZrLecFqL",
        "outputId": "5315d010-f478-4588-ac80-f2bf43740ef8",
        "colab": {
          "base_uri": "https://localhost:8080/"
        }
      },
      "execution_count": 8,
      "outputs": [
        {
          "output_type": "stream",
          "name": "stdout",
          "text": [
            "306 items in union: ['mathematics', 'examination', 'depend', 'study', 'fraction', 'reduce', 'formal', 'owe', 'patient', 'part of', 'particular', 'particle', 'parameter', 'absence', 'phenomenon', 'organize', 'opportunity', 'Olympic', 'occasion', 'obtain', 'observe', 'otherwise', 'politics', 'point', 'prepare', 'project', 'proficient', 'profession', 'procedure', 'private', 'prevent', 'predicate', 'polygon', 'precisely', 'precise', 'praise', 'postulate', 'possible', 'position', 'noun', 'normally', 'purpose', 'liquid', 'math', 'mandatory', 'male', 'main', 'logical', 'logic', 'litigation', 'linear', 'next', 'like', 'levels', 'legislation', 'lecture', 'learning', 'late', 'larger', 'mathematical', 'matrix', 'may', 'meaning', 'new', 'necessary', 'narrow', 'multiply', 'multiplication', 'multiple', 'much', 'month', 'money', 'middle', 'method', 'merit', 'mechanic', 'measurement', 'means', 'proof', 'quantum', 'quantity', 'understand', 'type', 'turn', 'trivial', 'trigonometry', 'traditional', 'top', 'today', 'thus', 'theorem', 'theater', 'test', 'technique', 'teaching', 'teach', 'tangent', 'unable', 'understanding', 'sum', 'union', 'writing', 'woman', 'where', 'violin', 'view', 'vibrant', 'venue', 'vehicle', 'vector', 'various', 'value', 'utilize', 'use', 'upon', 'university', 'synthesizer', 'subtraction', 'knowledge', 'sample', 'right', 'retirement', 'retain', 'resolve', 'resident', 'requirement', 'require', 'repair', 'relatives', 'reject', 'register', 'recently', 'random', 'quotient', 'quickly', 'role', 'scholarship', 'subject', 'science', 'student', 'structure', 'space', 'something', 'social', 'smooth', 'slope', 'skilled', 'significant', 'shape', 'several', 'serious', 'separate', 'senior', 'semester', 'labor', 'job', 'junior', 'consideration', 'condition', 'concern', 'computing', 'computer', 'compute', 'compulsory', 'competition', 'compare', 'college', 'club', 'civil', 'child', 'certificate', 'cause', 'category', 'conduct', 'consult', 'calculus', 'contaminate', 'digit', 'difficult', 'different', 'dictate', 'diagonal', 'developer', 'detailed', 'decomposition', 'cylinder', 'crane', 'course', 'cosine', 'contrast', 'continuous', 'continue', 'canyon', 'calculate', 'academia', 'analog', 'almost', 'algorithm', 'algebra', 'affection', 'affair', 'advice', 'advanced', 'admission', 'adjustment', 'adjective', 'additionally', 'actual', 'accomplished', 'academy', 'academic', 'always', 'anatomy', 'binary', 'angle', 'behind', 'begin', 'beat', 'basis', 'axiom', 'await', 'autumn', 'authority', 'assume', 'assessment', 'arrive', 'armed', 'arithmetic', 'apart', 'anticipate', 'diploma', 'disarm', 'discrete', 'indeed', 'imply', 'implement', 'impact', 'however', 'hour', 'horizontal', 'hence', 'health', 'greatest', 'gratitude', 'graph', 'graduation', 'grade', 'grab', 'get', 'importance', 'individual', 'disdain', 'infinite', 'it', 'issue', 'investigation', 'inverse', 'internship', 'interfere', 'integrate', 'integral', 'integer', 'instance', 'inspect', 'inside', 'inquiry', 'initiate', 'initial', 'geometry', 'geometric', 'geology', 'genetics', 'equation', 'equal', 'energy', 'encouragement', 'encourage', 'elementary', 'efficiency', 'education', 'economics', 'earlier', 'Doctor Who', 'dock', 'division', 'diverse', 'distance', 'equivalent', 'exactly', 'exam', 'floating', 'gain', 'furthermore', 'fully', 'fuel', 'fly', 'fluid', 'finite', 'exams', 'fighting', 'fierce', 'field', 'extensive', 'express', 'exclude', 'zero']\n",
            "7 items in intersection: ['mathematics', 'examination', 'depend', 'formal', 'fraction', 'reduce', 'study']\n",
            "for wordpair exam-algebra and clue mathematics\n",
            "ON FULL VOCAB\n",
            "literal guesser prediction is: exam-algebra\n",
            "top 5 prag speaker predictions are: ['algebra', 'exam', 'mathematics', 'exams', 'calculus']\n",
            "ON CANDIDATES\n",
            "GUESSER candidate UNION prediction is: exam-algebra\n",
            "GUESSER candidate INTERSECTION prediction is: exam-algebra\n",
            "top 5 SPEAKER candidate UNION are: ['algebra', 'exam', 'mathematics', 'exams', 'calculus']\n",
            "top 5 prag SPEAKER candidate INTERSECTION are: ['mathematics', 'examination', 'study', 'formal', 'fraction']\n",
            "SIMPLE UNION/INTERSECTION\n",
            "considering top 5 nodes visited by union and intersection...\n",
            "highly visited nodes in the union: ['mathematics', 'examination', 'depend', 'study', 'fraction']\n",
            "highly visited nodes in the intersection: ['mathematics', 'examination', 'depend', 'formal', 'fraction']\n"
          ]
        }
      ]
    },
    {
      "cell_type": "markdown",
      "metadata": {
        "id": "VtuHKP7ItXDy"
      },
      "source": [
        "# Running through full dataset\n",
        "\n",
        "Having verified the functions, we will now run these functions on the full behavioral dataset. We will need to explore some parameters for this. \n"
      ]
    },
    {
      "cell_type": "code",
      "execution_count": 9,
      "metadata": {
        "id": "hlh_haE7tazm",
        "outputId": "9d9165b8-040c-4f13-f36c-e55319abfb89",
        "colab": {
          "base_uri": "https://localhost:8080/"
        }
      },
      "outputs": [
        {
          "output_type": "stream",
          "name": "stdout",
          "text": [
            "/content/Connector/connector-cogsci2021/data\n"
          ]
        }
      ],
      "source": [
        "## import empirical clues (cleaned)\n",
        "%cd /content/Connector/connector-cogsci2021/data\n",
        "expdata = pd.read_csv(\"final_board_clues_all.csv\", encoding= 'unicode_escape')\n",
        "\n",
        "## now we run the functions on this dataset of clues"
      ]
    },
    {
      "cell_type": "code",
      "execution_count": null,
      "metadata": {
        "id": "9cqRx40xQuKS"
      },
      "outputs": [],
      "source": [
        "## for writing files\n",
        "from google.colab import drive\n",
        "drive.mount('/content/drive',force_remount=True)\n",
        "parentfolder = \"/content/drive/My Drive/search-models/\""
      ]
    }
  ],
  "metadata": {
    "colab": {
      "collapsed_sections": [],
      "machine_shape": "hm",
      "name": "search-models.ipynb",
      "provenance": [],
      "authorship_tag": "ABX9TyPZ2+mZ9esNEDMmZcXJL89O",
      "include_colab_link": true
    },
    "kernelspec": {
      "display_name": "Python 3",
      "name": "python3"
    },
    "language_info": {
      "name": "python"
    }
  },
  "nbformat": 4,
  "nbformat_minor": 0
}