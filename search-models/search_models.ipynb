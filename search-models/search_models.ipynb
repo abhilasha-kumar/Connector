{
  "cells": [
    {
      "cell_type": "markdown",
      "metadata": {
        "id": "view-in-github",
        "colab_type": "text"
      },
      "source": [
        "<a href=\"https://colab.research.google.com/github/abhilasha-kumar/Connector/blob/master/search-models/search_models.ipynb\" target=\"_parent\"><img src=\"https://colab.research.google.com/assets/colab-badge.svg\" alt=\"Open In Colab\"/></a>"
      ]
    },
    {
      "cell_type": "markdown",
      "metadata": {
        "id": "LH3K3UX0r_uM"
      },
      "source": [
        "# Cloning git repository"
      ]
    },
    {
      "cell_type": "code",
      "source": [
        "!git clone https://github.com/abhilasha-kumar/Connector.git"
      ],
      "metadata": {
        "colab": {
          "base_uri": "https://localhost:8080/"
        },
        "id": "RU7It8y3eUZ4",
        "outputId": "f0a5989d-4e1d-4e71-c2d9-f6953f2e93ff"
      },
      "execution_count": 1,
      "outputs": [
        {
          "output_type": "stream",
          "name": "stdout",
          "text": [
            "Cloning into 'Connector'...\n",
            "remote: Enumerating objects: 1029, done.\u001b[K\n",
            "remote: Counting objects: 100% (127/127), done.\u001b[K\n",
            "remote: Compressing objects: 100% (99/99), done.\u001b[K\n",
            "remote: Total 1029 (delta 64), reused 66 (delta 27), pack-reused 902\u001b[K\n",
            "Receiving objects: 100% (1029/1029), 76.21 MiB | 18.32 MiB/s, done.\n",
            "Resolving deltas: 100% (514/514), done.\n",
            "Checking out files: 100% (218/218), done.\n"
          ]
        }
      ]
    },
    {
      "cell_type": "markdown",
      "metadata": {
        "id": "54ZMyOWfsEGS"
      },
      "source": [
        "# Importing embeddings & vocabulary"
      ]
    },
    {
      "cell_type": "code",
      "execution_count": 4,
      "metadata": {
        "colab": {
          "base_uri": "https://localhost:8080/"
        },
        "id": "BxoEmRAHPuDn",
        "outputId": "630c6df0-4040-4232-ee91-f57cffa73b44"
      },
      "outputs": [
        {
          "output_type": "stream",
          "name": "stdout",
          "text": [
            "/content/Connector/connector-cogsci2021/data\n",
            "embeddings are shaped: (12218, 300)\n",
            "vocab is 12218 words\n"
          ]
        }
      ],
      "source": [
        "# import glove embeddings\n",
        "import pandas as pd\n",
        "import json\n",
        "import numpy as np\n",
        "%cd /content/Connector/connector-cogsci2021/data\n",
        "representations = {}\n",
        "representations['glove'] = pd.read_csv(\"glove_embeddings.csv\").transpose().values\n",
        "vocab = pd.read_csv(\"vocab.csv\").rename(columns={\"Word\": \"vocab_word\"})\n",
        "print(f\"embeddings are shaped:\", representations['glove'].shape)\n",
        "print(f\"vocab is {len(vocab)} words\")\n",
        "with open('boards.json', 'r') as json_file:\n",
        "    boards = json.load(json_file)"
      ]
    },
    {
      "cell_type": "markdown",
      "metadata": {
        "id": "urqF5SZjsF7h"
      },
      "source": [
        "# Importing search & RSA functions\n",
        "\n",
        "These functions have been predefined and are stored in the search-models subdirectory in the github repository, so we directly load them here."
      ]
    },
    {
      "cell_type": "code",
      "source": [
        "%cd /content/Connector/search-models\n",
        "import search_funcs"
      ],
      "metadata": {
        "colab": {
          "base_uri": "https://localhost:8080/"
        },
        "id": "e6zR_CdWKYnE",
        "outputId": "fcd3f0b4-4c11-4437-9266-ca5c8841ed62"
      },
      "execution_count": 5,
      "outputs": [
        {
          "output_type": "stream",
          "name": "stdout",
          "text": [
            "/content/Connector/search-models\n"
          ]
        }
      ]
    },
    {
      "cell_type": "markdown",
      "source": [
        "# Constructing similarity matrix & Graph"
      ],
      "metadata": {
        "id": "iHSQU9ln8LBB"
      }
    },
    {
      "cell_type": "code",
      "source": [
        "threshold = 0.4\n",
        "sim_matrix_glove = search_funcs.search.create_similarity_matrix(representations['glove'])\n",
        "Graph = search_funcs.search.create_graph(sim_matrix_glove, threshold)\n",
        "board_combos = {board_name : search_funcs.RSA.compute_board_combos(board_name,boards) for board_name in boards.keys()}"
      ],
      "metadata": {
        "id": "LTu8Gi5uzzrO"
      },
      "execution_count": 6,
      "outputs": []
    },
    {
      "cell_type": "markdown",
      "metadata": {
        "id": "c46cGdcHMM2q"
      },
      "source": [
        "# Running an example"
      ]
    },
    {
      "cell_type": "code",
      "source": [
        "target = 'exam-algebra'\n",
        "w1, w2 = target.split(sep = \"-\")\n",
        "n_steps = 5\n",
        "n_walks = 50\n",
        "# computing union and intersection of independent walks\n",
        "\n",
        "u, i = search_funcs.search.union_intersection(w1,w2, n_steps, n_walks, vocab, Graph)\n",
        "\n",
        "union_candidates = list(u.vocab_word)\n",
        "int_candidates = list(i.vocab_word)\n",
        "\n",
        "print(f\"{len(u)} items in union: {union_candidates}\")\n",
        "print(f\"{len(i)} items in intersection: {int_candidates}\")\n",
        "\n",
        "clue = 'mathematics'\n",
        "n = 5\n",
        "wordpairlist = search_funcs.RSA.get_wordpair_list(board_combos, 'e1_board1_words')\n",
        "target_index = wordpairlist.index(target)\n",
        "clue_index = list(vocab[\"vocab_word\"]).index(clue)\n",
        "\n",
        "print(f\"for wordpair {target} and clue {clue}\")\n",
        "\n",
        "## compute predictions on FULL vocab\n",
        "\n",
        "print(f\"ON FULL VOCAB\")\n",
        "\n",
        "a = search_funcs.RSA.literal_guesser('e1_board1_words', representations, list(vocab.vocab_word) , vocab, boards)[:,clue_index]\n",
        "y = search_funcs.RSA.pragmatic_speaker('e1_board1_words', 18.858, 0.004, representations,list(vocab.vocab_word) , vocab, boards)\n",
        "\n",
        "print(\"literal guesser prediction is:\", wordpairlist[np.argmax(a)])\n",
        "top = y[target_index,:].argsort()[-n:][::-1].tolist()\n",
        "top_words = [list(vocab[\"vocab_word\"])[x] for x in top]\n",
        "print(f\"top {n} prag speaker predictions are:\", top_words)\n",
        "\n",
        "print(f\"ON CANDIDATES\")\n",
        "\n",
        "b_union = search_funcs.RSA.literal_guesser('e1_board1_words', representations, union_candidates, vocab, boards)[:, union_candidates.index(clue)]\n",
        "c_union = search_funcs.RSA.pragmatic_speaker('e1_board1_words', 18.858, 0.004, representations, union_candidates, vocab, boards)\n",
        "\n",
        "b_int = search_funcs.RSA.literal_guesser('e1_board1_words', representations, int_candidates, vocab, boards)[:, int_candidates.index(clue)]\n",
        "c_int = search_funcs.RSA.pragmatic_speaker('e1_board1_words', 18.858, 0.004, representations, int_candidates, vocab, boards)\n",
        "\n",
        "print(\"GUESSER candidate UNION prediction is:\", wordpairlist[np.argmax(b_union)])\n",
        "print(\"GUESSER candidate INTERSECTION prediction is:\", wordpairlist[np.argmax(b_int)])\n",
        "\n",
        "top = c_union[target_index,:].argsort()[-n:][::-1].tolist()\n",
        "top_words = [list(u.vocab_word)[x] for x in top]\n",
        "print(f\"top {n} SPEAKER candidate UNION are:\", top_words)\n",
        "\n",
        "top = c_int[target_index,:].argsort()[-n:][::-1].tolist()\n",
        "top_words = [list(i.vocab_word)[x] for x in top]\n",
        "print(f\"top {n} prag SPEAKER candidate INTERSECTION are:\", top_words)\n",
        "\n",
        "print(f\"SIMPLE UNION/INTERSECTION\")\n",
        "print(f\"considering top {n} nodes visited by union and intersection...\")\n",
        "print(f\"highly visited nodes in the union: {union_candidates[:n]}\")\n",
        "print(f\"highly visited nodes in the intersection: {int_candidates[:n]}\")\n",
        "\n"
      ],
      "metadata": {
        "colab": {
          "base_uri": "https://localhost:8080/"
        },
        "id": "_fD4ZrLecFqL",
        "outputId": "5315d010-f478-4588-ac80-f2bf43740ef8"
      },
      "execution_count": 8,
      "outputs": [
        {
          "output_type": "stream",
          "name": "stdout",
          "text": [
            "306 items in union: ['mathematics', 'examination', 'depend', 'study', 'fraction', 'reduce', 'formal', 'owe', 'patient', 'part of', 'particular', 'particle', 'parameter', 'absence', 'phenomenon', 'organize', 'opportunity', 'Olympic', 'occasion', 'obtain', 'observe', 'otherwise', 'politics', 'point', 'prepare', 'project', 'proficient', 'profession', 'procedure', 'private', 'prevent', 'predicate', 'polygon', 'precisely', 'precise', 'praise', 'postulate', 'possible', 'position', 'noun', 'normally', 'purpose', 'liquid', 'math', 'mandatory', 'male', 'main', 'logical', 'logic', 'litigation', 'linear', 'next', 'like', 'levels', 'legislation', 'lecture', 'learning', 'late', 'larger', 'mathematical', 'matrix', 'may', 'meaning', 'new', 'necessary', 'narrow', 'multiply', 'multiplication', 'multiple', 'much', 'month', 'money', 'middle', 'method', 'merit', 'mechanic', 'measurement', 'means', 'proof', 'quantum', 'quantity', 'understand', 'type', 'turn', 'trivial', 'trigonometry', 'traditional', 'top', 'today', 'thus', 'theorem', 'theater', 'test', 'technique', 'teaching', 'teach', 'tangent', 'unable', 'understanding', 'sum', 'union', 'writing', 'woman', 'where', 'violin', 'view', 'vibrant', 'venue', 'vehicle', 'vector', 'various', 'value', 'utilize', 'use', 'upon', 'university', 'synthesizer', 'subtraction', 'knowledge', 'sample', 'right', 'retirement', 'retain', 'resolve', 'resident', 'requirement', 'require', 'repair', 'relatives', 'reject', 'register', 'recently', 'random', 'quotient', 'quickly', 'role', 'scholarship', 'subject', 'science', 'student', 'structure', 'space', 'something', 'social', 'smooth', 'slope', 'skilled', 'significant', 'shape', 'several', 'serious', 'separate', 'senior', 'semester', 'labor', 'job', 'junior', 'consideration', 'condition', 'concern', 'computing', 'computer', 'compute', 'compulsory', 'competition', 'compare', 'college', 'club', 'civil', 'child', 'certificate', 'cause', 'category', 'conduct', 'consult', 'calculus', 'contaminate', 'digit', 'difficult', 'different', 'dictate', 'diagonal', 'developer', 'detailed', 'decomposition', 'cylinder', 'crane', 'course', 'cosine', 'contrast', 'continuous', 'continue', 'canyon', 'calculate', 'academia', 'analog', 'almost', 'algorithm', 'algebra', 'affection', 'affair', 'advice', 'advanced', 'admission', 'adjustment', 'adjective', 'additionally', 'actual', 'accomplished', 'academy', 'academic', 'always', 'anatomy', 'binary', 'angle', 'behind', 'begin', 'beat', 'basis', 'axiom', 'await', 'autumn', 'authority', 'assume', 'assessment', 'arrive', 'armed', 'arithmetic', 'apart', 'anticipate', 'diploma', 'disarm', 'discrete', 'indeed', 'imply', 'implement', 'impact', 'however', 'hour', 'horizontal', 'hence', 'health', 'greatest', 'gratitude', 'graph', 'graduation', 'grade', 'grab', 'get', 'importance', 'individual', 'disdain', 'infinite', 'it', 'issue', 'investigation', 'inverse', 'internship', 'interfere', 'integrate', 'integral', 'integer', 'instance', 'inspect', 'inside', 'inquiry', 'initiate', 'initial', 'geometry', 'geometric', 'geology', 'genetics', 'equation', 'equal', 'energy', 'encouragement', 'encourage', 'elementary', 'efficiency', 'education', 'economics', 'earlier', 'Doctor Who', 'dock', 'division', 'diverse', 'distance', 'equivalent', 'exactly', 'exam', 'floating', 'gain', 'furthermore', 'fully', 'fuel', 'fly', 'fluid', 'finite', 'exams', 'fighting', 'fierce', 'field', 'extensive', 'express', 'exclude', 'zero']\n",
            "7 items in intersection: ['mathematics', 'examination', 'depend', 'formal', 'fraction', 'reduce', 'study']\n",
            "for wordpair exam-algebra and clue mathematics\n",
            "ON FULL VOCAB\n",
            "literal guesser prediction is: exam-algebra\n",
            "top 5 prag speaker predictions are: ['algebra', 'exam', 'mathematics', 'exams', 'calculus']\n",
            "ON CANDIDATES\n",
            "GUESSER candidate UNION prediction is: exam-algebra\n",
            "GUESSER candidate INTERSECTION prediction is: exam-algebra\n",
            "top 5 SPEAKER candidate UNION are: ['algebra', 'exam', 'mathematics', 'exams', 'calculus']\n",
            "top 5 prag SPEAKER candidate INTERSECTION are: ['mathematics', 'examination', 'study', 'formal', 'fraction']\n",
            "SIMPLE UNION/INTERSECTION\n",
            "considering top 5 nodes visited by union and intersection...\n",
            "highly visited nodes in the union: ['mathematics', 'examination', 'depend', 'study', 'fraction']\n",
            "highly visited nodes in the intersection: ['mathematics', 'examination', 'depend', 'formal', 'fraction']\n"
          ]
        }
      ]
    },
    {
      "cell_type": "markdown",
      "metadata": {
        "id": "VtuHKP7ItXDy"
      },
      "source": [
        "# Running through full dataset\n",
        "\n",
        "Having verified the functions, we will now run these functions on the full behavioral dataset. We will need to explore some parameters for this. \n"
      ]
    },
    {
      "cell_type": "markdown",
      "source": [
        "\n",
        "We have 2 variables:\n",
        "1.   Candidates (full/subset)\n",
        "2.   Pragmatics (with/without)\n",
        "\n",
        "We have the following search models that generate candidates:\n",
        "1.   Union (RW)\n",
        "2.   Intersection (RW)\n",
        "3.   Predication (spreading activation)\n",
        "\n",
        "We have the following models that can be run with/without candidates and with/without pragmatics:\n",
        "1.   Speaker models\n",
        "    - Target+Board\n",
        "    - Pragmatic speaker\n",
        "2.  Guesser models \n",
        "  - Literal Guesser\n",
        "  - Pragmatic Guesser\n",
        "\n",
        "\n",
        "\n",
        "\n",
        "\n"
      ],
      "metadata": {
        "id": "u0svZpSd88Jz"
      }
    },
    {
      "cell_type": "code",
      "execution_count": 9,
      "metadata": {
        "id": "hlh_haE7tazm",
        "colab": {
          "base_uri": "https://localhost:8080/"
        },
        "outputId": "9d9165b8-040c-4f13-f36c-e55319abfb89"
      },
      "outputs": [
        {
          "output_type": "stream",
          "name": "stdout",
          "text": [
            "/content/Connector/connector-cogsci2021/data\n"
          ]
        }
      ],
      "source": [
        "## import empirical clues (cleaned)\n",
        "%cd /content/Connector/connector-cogsci2021/data\n",
        "expdata = pd.read_csv(\"final_board_clues_all.csv\", encoding= 'unicode_escape')\n",
        "\n",
        "## now we run the functions on this dataset of clues"
      ]
    },
    {
      "cell_type": "code",
      "source": [
        "## create boards and merge with expdata\n",
        "combined_boards_df = pd.DataFrame(columns=['Experiment', 'Board','boardwords'])\n",
        "combined_boards_df[\"Experiment\"]  = [\"E1\"] * 10 + [\"E2\"] * 10\n",
        "combined_boards_df[\"Board\"] = [\"TrialList\" + str(i) for i in range(1,11)] * 2\n",
        "combined_boards_df[\"boardnames\"] = (['e1_board' + str(i) + '_words' for i in range(1,11)] \n",
        "                                  + ['e2_board' + str(i) + '_words' for i in range(1,11)])\n",
        "combined_boards_df[\"boardwords\"] = [boards[n] for n in combined_boards_df[\"boardnames\"]]\n",
        "print(combined_boards_df.head())\n",
        "\n",
        "## need to get similarity matrix of these words in this order to work with\n",
        "target_df = pd.read_csv(\"connector_wordpairs_boards.csv\")\n",
        "target_df[\"wordpair\"]= target_df[\"Word1\"]+ \"-\"+target_df[\"Word2\"]\n",
        "print(target_df.head())"
      ],
      "metadata": {
        "id": "FTlR2C7R3_L3",
        "outputId": "a77e4222-adac-4f3c-a09d-2d3985970b2a",
        "colab": {
          "base_uri": "https://localhost:8080/"
        }
      },
      "execution_count": 13,
      "outputs": [
        {
          "output_type": "stream",
          "name": "stdout",
          "text": [
            "  Experiment  ...       boardnames\n",
            "0         E1  ...  e1_board1_words\n",
            "1         E1  ...  e1_board2_words\n",
            "2         E1  ...  e1_board3_words\n",
            "3         E1  ...  e1_board4_words\n",
            "4         E1  ...  e1_board5_words\n",
            "\n",
            "[5 rows x 4 columns]\n",
            "     Word1     Word2 Experiment        boardnames         wordpair\n",
            "0     void     couch         E1   e1_board1_words       void-couch\n",
            "1   giggle  abnormal         E1   e1_board1_words  giggle-abnormal\n",
            "2     exam   algebra         E1   e1_board1_words     exam-algebra\n",
            "3      tea      bean         E1  e1_board10_words         tea-bean\n",
            "4  tourist    comedy         E1  e1_board10_words   tourist-comedy\n"
          ]
        }
      ]
    },
    {
      "cell_type": "code",
      "source": [
        "## we want to run models with and without RSA\n",
        "# models (C: #candidates):\n",
        "# Random walk (steps = size(vocab) until all nodes, n_times, threshold): \n",
        "# Graph cutoff: only remove negative\n",
        "# Union\n",
        "# Intersection\n",
        "# Run the RW until all nodes are visited * n_times = n_times lists of ordered nodes\n",
        "# Where did the word appear (index of word) in the list of n_times RWs\n",
        "# Reorder list based on order of visitation\n",
        "# Order vs. times_visited - which is more salient?\n",
        "# Predication (asymmetric) (m, k, t = 5)\n",
        "# with/without RSA\n",
        "# Cost could incorporate visited/index\n",
        "# Old models? \n",
        "# [Target, target+board]: special case of candidates = vocab\n",
        "# RSA [full vocabulary]: special case of candidates = vocab\n"
      ],
      "metadata": {
        "id": "ZEPFrjPd6peY"
      },
      "execution_count": null,
      "outputs": []
    },
    {
      "cell_type": "code",
      "source": [
        ""
      ],
      "metadata": {
        "id": "KMpbpi6b8_43"
      },
      "execution_count": null,
      "outputs": []
    },
    {
      "cell_type": "markdown",
      "source": [
        "## Models with RSA"
      ],
      "metadata": {
        "id": "67827P5C897A"
      }
    },
    {
      "cell_type": "code",
      "source": [
        "rsa_optimal_params = {\n",
        "    'swow' : (25.1522030761838, 0.03863169001849234),\n",
        "    'glove' : (22.336514544537227, 0.039),\n",
        "    'bert-sum' : (29.709602301411962, 0.031659060110267576), #-17533\n",
        "}\n",
        "\n",
        "board_optimal_params = {\n",
        "    'swow' : (23.488850322875496, 1), # -13204\n",
        "    'glove' : (20.952928531665275, 1), # -15774.814774380024)\n",
        "    'bert-sum' : (19.983835225540847, 0.787924454045298),\n",
        "}"
      ],
      "metadata": {
        "id": "v8QEomkF4hmB"
      },
      "execution_count": 15,
      "outputs": []
    },
    {
      "cell_type": "code",
      "source": [
        "def get_speaker_scores(group, speaker_word_pairs, y, y_sorted) :\n",
        "    speaker_prob = []\n",
        "    speaker_rank = []\n",
        "    for index, row in group.iterrows():\n",
        "        clue1 = row[\"Clue1\"]\n",
        "        wordpair = str(row[\"wordpair\"]).replace(\" \", \"\")\n",
        "        wordpair_index = speaker_word_pairs.index(wordpair)\n",
        "        w1_index, w2_index = [list(vocab[\"vocab_word\"]).index(word) for word in wordpair.split('-')]\n",
        "        \n",
        "        # find index of clue\n",
        "        if clue1 in list(vocab[\"vocab_word\"]):\n",
        "            clue_index = list(vocab[\"vocab_word\"]).index(clue1)\n",
        "            clue_probs = y[wordpair_index, clue_index]\n",
        "            clue_rank = np.nonzero(y_sorted==clue_index)[1][wordpair_index]\n",
        "        else:\n",
        "            clue_rank = \"NA\"\n",
        "            clue_probs = \"NA\"\n",
        "\n",
        "        speaker_prob.append(clue_probs)\n",
        "        speaker_rank.append(clue_rank)\n",
        "    return speaker_prob, speaker_rank\n",
        "\n"
      ],
      "metadata": {
        "id": "im1aNs-H4Ss1"
      },
      "execution_count": 14,
      "outputs": []
    },
    {
      "cell_type": "code",
      "source": [
        "speakerprobs_df = pd.DataFrame(columns=['representation', 'Experiment','Board', \"Word1\", \"Word2\", \"Clue1\", \"clueCount\", \"wordpair\", \"prag_speaker_probs\"])\n",
        "for representation in representations.keys() :\n",
        "    for index, row in combined_boards_df.iterrows():\n",
        "        board = row[\"boardwords\"]\n",
        "        boardname = row[\"boardnames\"]\n",
        "        wordpairlist = search_funcs.RSA.get_wordpair_list(board_combos, boardname)\n",
        "        speaker_word_pairs = target_df[(target_df[\"boardnames\"] == row[\"boardnames\"]) & \n",
        "                                       (target_df[\"Experiment\"] == row[\"Experiment\"])][\"wordpair\"]\n",
        "        speaker_word_pairs = list(speaker_word_pairs)\n",
        "        speaker_df_new = pd.DataFrame({'wordpair': speaker_word_pairs})\n",
        "        params = rsa_optimal_params[representation]\n",
        "        speaker_model = search_funcs.RSA.pragmatic_speaker(boardname, params[0], params[1],representations, list(vocab.vocab_word), vocab, boards)\n",
        "\n",
        "        ## this is created at the BOARD level\n",
        "        y = np.array([speaker_model[wordpairlist.index(wordpair)] for wordpair in speaker_word_pairs])\n",
        "        y_sorted = np.argsort(-y)\n",
        "\n",
        "        ## so y has 3 vectors of clue probabilities (the 3 pairs on this board)\n",
        "        ## now we need to go into expdata and score the probabilities for those specific clues\n",
        "        expdata_board = expdata[(expdata[\"Board\"] == row[\"Board\"]) & (expdata[\"Experiment\"] == row[\"Experiment\"])]\n",
        "        speaker_prob, speaker_rank = get_speaker_scores(expdata_board, speaker_word_pairs, y, y_sorted)\n",
        "        expdata_board.loc[:,\"representation\"] = representation\n",
        "        expdata_board.loc[:,\"prag_speaker_probs\"] = speaker_prob\n",
        "        expdata_board.loc[:,\"prag_speaker_rank\"] = speaker_rank\n",
        "        speakerprobs_df = pd.concat([speakerprobs_df, expdata_board])"
      ],
      "metadata": {
        "id": "MsYdn0RW4Whw",
        "outputId": "fc1ad6d4-31ce-4256-81d3-9ecf92585ceb",
        "colab": {
          "base_uri": "https://localhost:8080/"
        }
      },
      "execution_count": 17,
      "outputs": [
        {
          "output_type": "stream",
          "name": "stderr",
          "text": [
            "/usr/local/lib/python3.7/dist-packages/pandas/core/indexing.py:1667: SettingWithCopyWarning: \n",
            "A value is trying to be set on a copy of a slice from a DataFrame.\n",
            "Try using .loc[row_indexer,col_indexer] = value instead\n",
            "\n",
            "See the caveats in the documentation: https://pandas.pydata.org/pandas-docs/stable/user_guide/indexing.html#returning-a-view-versus-a-copy\n",
            "  self.obj[key] = value\n"
          ]
        }
      ]
    },
    {
      "cell_type": "code",
      "source": [
        "speakerprobs_df"
      ],
      "metadata": {
        "id": "pfwfcDYq81sx",
        "outputId": "5ab2c878-cc1a-4b79-852d-f01189670cce",
        "colab": {
          "base_uri": "https://localhost:8080/",
          "height": 423
        }
      },
      "execution_count": 18,
      "outputs": [
        {
          "output_type": "execute_result",
          "data": {
            "text/html": [
              "\n",
              "  <div id=\"df-0875e58e-5b52-4e49-9bd7-b5802c8b9318\">\n",
              "    <div class=\"colab-df-container\">\n",
              "      <div>\n",
              "<style scoped>\n",
              "    .dataframe tbody tr th:only-of-type {\n",
              "        vertical-align: middle;\n",
              "    }\n",
              "\n",
              "    .dataframe tbody tr th {\n",
              "        vertical-align: top;\n",
              "    }\n",
              "\n",
              "    .dataframe thead th {\n",
              "        text-align: right;\n",
              "    }\n",
              "</style>\n",
              "<table border=\"1\" class=\"dataframe\">\n",
              "  <thead>\n",
              "    <tr style=\"text-align: right;\">\n",
              "      <th></th>\n",
              "      <th>representation</th>\n",
              "      <th>Experiment</th>\n",
              "      <th>Board</th>\n",
              "      <th>Word1</th>\n",
              "      <th>Word2</th>\n",
              "      <th>Clue1</th>\n",
              "      <th>clueCount</th>\n",
              "      <th>wordpair</th>\n",
              "      <th>prag_speaker_probs</th>\n",
              "      <th>prag_speaker_rank</th>\n",
              "    </tr>\n",
              "  </thead>\n",
              "  <tbody>\n",
              "    <tr>\n",
              "      <th>0</th>\n",
              "      <td>glove</td>\n",
              "      <td>E1</td>\n",
              "      <td>TrialList1</td>\n",
              "      <td>exam</td>\n",
              "      <td>algebra</td>\n",
              "      <td>calculus</td>\n",
              "      <td>1</td>\n",
              "      <td>exam - algebra</td>\n",
              "      <td>0.002025</td>\n",
              "      <td>11</td>\n",
              "    </tr>\n",
              "    <tr>\n",
              "      <th>1</th>\n",
              "      <td>glove</td>\n",
              "      <td>E1</td>\n",
              "      <td>TrialList1</td>\n",
              "      <td>exam</td>\n",
              "      <td>algebra</td>\n",
              "      <td>equation</td>\n",
              "      <td>1</td>\n",
              "      <td>exam - algebra</td>\n",
              "      <td>0.000493</td>\n",
              "      <td>147</td>\n",
              "    </tr>\n",
              "    <tr>\n",
              "      <th>2</th>\n",
              "      <td>glove</td>\n",
              "      <td>E1</td>\n",
              "      <td>TrialList1</td>\n",
              "      <td>exam</td>\n",
              "      <td>algebra</td>\n",
              "      <td>knowledge</td>\n",
              "      <td>1</td>\n",
              "      <td>exam - algebra</td>\n",
              "      <td>0.000239</td>\n",
              "      <td>474</td>\n",
              "    </tr>\n",
              "    <tr>\n",
              "      <th>3</th>\n",
              "      <td>glove</td>\n",
              "      <td>E1</td>\n",
              "      <td>TrialList1</td>\n",
              "      <td>exam</td>\n",
              "      <td>algebra</td>\n",
              "      <td>math</td>\n",
              "      <td>22</td>\n",
              "      <td>exam - algebra</td>\n",
              "      <td>0.003153</td>\n",
              "      <td>5</td>\n",
              "    </tr>\n",
              "    <tr>\n",
              "      <th>4</th>\n",
              "      <td>glove</td>\n",
              "      <td>E1</td>\n",
              "      <td>TrialList1</td>\n",
              "      <td>exam</td>\n",
              "      <td>algebra</td>\n",
              "      <td>school</td>\n",
              "      <td>2</td>\n",
              "      <td>exam - algebra</td>\n",
              "      <td>0.001181</td>\n",
              "      <td>31</td>\n",
              "    </tr>\n",
              "    <tr>\n",
              "      <th>...</th>\n",
              "      <td>...</td>\n",
              "      <td>...</td>\n",
              "      <td>...</td>\n",
              "      <td>...</td>\n",
              "      <td>...</td>\n",
              "      <td>...</td>\n",
              "      <td>...</td>\n",
              "      <td>...</td>\n",
              "      <td>...</td>\n",
              "      <td>...</td>\n",
              "    </tr>\n",
              "    <tr>\n",
              "      <th>580</th>\n",
              "      <td>glove</td>\n",
              "      <td>E2</td>\n",
              "      <td>TrialList10</td>\n",
              "      <td>garage</td>\n",
              "      <td>bone</td>\n",
              "      <td>storage</td>\n",
              "      <td>5</td>\n",
              "      <td>garage - bone</td>\n",
              "      <td>0.000303</td>\n",
              "      <td>400</td>\n",
              "    </tr>\n",
              "    <tr>\n",
              "      <th>581</th>\n",
              "      <td>glove</td>\n",
              "      <td>E2</td>\n",
              "      <td>TrialList10</td>\n",
              "      <td>garage</td>\n",
              "      <td>bone</td>\n",
              "      <td>structure</td>\n",
              "      <td>1</td>\n",
              "      <td>garage - bone</td>\n",
              "      <td>0.000186</td>\n",
              "      <td>991</td>\n",
              "    </tr>\n",
              "    <tr>\n",
              "      <th>582</th>\n",
              "      <td>glove</td>\n",
              "      <td>E2</td>\n",
              "      <td>TrialList10</td>\n",
              "      <td>garage</td>\n",
              "      <td>bone</td>\n",
              "      <td>tool</td>\n",
              "      <td>1</td>\n",
              "      <td>garage - bone</td>\n",
              "      <td>0.000198</td>\n",
              "      <td>889</td>\n",
              "    </tr>\n",
              "    <tr>\n",
              "      <th>583</th>\n",
              "      <td>glove</td>\n",
              "      <td>E2</td>\n",
              "      <td>TrialList10</td>\n",
              "      <td>garage</td>\n",
              "      <td>bone</td>\n",
              "      <td>trash</td>\n",
              "      <td>2</td>\n",
              "      <td>garage - bone</td>\n",
              "      <td>0.000418</td>\n",
              "      <td>214</td>\n",
              "    </tr>\n",
              "    <tr>\n",
              "      <th>584</th>\n",
              "      <td>glove</td>\n",
              "      <td>E2</td>\n",
              "      <td>TrialList10</td>\n",
              "      <td>garage</td>\n",
              "      <td>bone</td>\n",
              "      <td>underground</td>\n",
              "      <td>1</td>\n",
              "      <td>garage - bone</td>\n",
              "      <td>0.000336</td>\n",
              "      <td>323</td>\n",
              "    </tr>\n",
              "  </tbody>\n",
              "</table>\n",
              "<p>1096 rows × 10 columns</p>\n",
              "</div>\n",
              "      <button class=\"colab-df-convert\" onclick=\"convertToInteractive('df-0875e58e-5b52-4e49-9bd7-b5802c8b9318')\"\n",
              "              title=\"Convert this dataframe to an interactive table.\"\n",
              "              style=\"display:none;\">\n",
              "        \n",
              "  <svg xmlns=\"http://www.w3.org/2000/svg\" height=\"24px\"viewBox=\"0 0 24 24\"\n",
              "       width=\"24px\">\n",
              "    <path d=\"M0 0h24v24H0V0z\" fill=\"none\"/>\n",
              "    <path d=\"M18.56 5.44l.94 2.06.94-2.06 2.06-.94-2.06-.94-.94-2.06-.94 2.06-2.06.94zm-11 1L8.5 8.5l.94-2.06 2.06-.94-2.06-.94L8.5 2.5l-.94 2.06-2.06.94zm10 10l.94 2.06.94-2.06 2.06-.94-2.06-.94-.94-2.06-.94 2.06-2.06.94z\"/><path d=\"M17.41 7.96l-1.37-1.37c-.4-.4-.92-.59-1.43-.59-.52 0-1.04.2-1.43.59L10.3 9.45l-7.72 7.72c-.78.78-.78 2.05 0 2.83L4 21.41c.39.39.9.59 1.41.59.51 0 1.02-.2 1.41-.59l7.78-7.78 2.81-2.81c.8-.78.8-2.07 0-2.86zM5.41 20L4 18.59l7.72-7.72 1.47 1.35L5.41 20z\"/>\n",
              "  </svg>\n",
              "      </button>\n",
              "      \n",
              "  <style>\n",
              "    .colab-df-container {\n",
              "      display:flex;\n",
              "      flex-wrap:wrap;\n",
              "      gap: 12px;\n",
              "    }\n",
              "\n",
              "    .colab-df-convert {\n",
              "      background-color: #E8F0FE;\n",
              "      border: none;\n",
              "      border-radius: 50%;\n",
              "      cursor: pointer;\n",
              "      display: none;\n",
              "      fill: #1967D2;\n",
              "      height: 32px;\n",
              "      padding: 0 0 0 0;\n",
              "      width: 32px;\n",
              "    }\n",
              "\n",
              "    .colab-df-convert:hover {\n",
              "      background-color: #E2EBFA;\n",
              "      box-shadow: 0px 1px 2px rgba(60, 64, 67, 0.3), 0px 1px 3px 1px rgba(60, 64, 67, 0.15);\n",
              "      fill: #174EA6;\n",
              "    }\n",
              "\n",
              "    [theme=dark] .colab-df-convert {\n",
              "      background-color: #3B4455;\n",
              "      fill: #D2E3FC;\n",
              "    }\n",
              "\n",
              "    [theme=dark] .colab-df-convert:hover {\n",
              "      background-color: #434B5C;\n",
              "      box-shadow: 0px 1px 3px 1px rgba(0, 0, 0, 0.15);\n",
              "      filter: drop-shadow(0px 1px 2px rgba(0, 0, 0, 0.3));\n",
              "      fill: #FFFFFF;\n",
              "    }\n",
              "  </style>\n",
              "\n",
              "      <script>\n",
              "        const buttonEl =\n",
              "          document.querySelector('#df-0875e58e-5b52-4e49-9bd7-b5802c8b9318 button.colab-df-convert');\n",
              "        buttonEl.style.display =\n",
              "          google.colab.kernel.accessAllowed ? 'block' : 'none';\n",
              "\n",
              "        async function convertToInteractive(key) {\n",
              "          const element = document.querySelector('#df-0875e58e-5b52-4e49-9bd7-b5802c8b9318');\n",
              "          const dataTable =\n",
              "            await google.colab.kernel.invokeFunction('convertToInteractive',\n",
              "                                                     [key], {});\n",
              "          if (!dataTable) return;\n",
              "\n",
              "          const docLinkHtml = 'Like what you see? Visit the ' +\n",
              "            '<a target=\"_blank\" href=https://colab.research.google.com/notebooks/data_table.ipynb>data table notebook</a>'\n",
              "            + ' to learn more about interactive tables.';\n",
              "          element.innerHTML = '';\n",
              "          dataTable['output_type'] = 'display_data';\n",
              "          await google.colab.output.renderOutput(dataTable, element);\n",
              "          const docLink = document.createElement('div');\n",
              "          docLink.innerHTML = docLinkHtml;\n",
              "          element.appendChild(docLink);\n",
              "        }\n",
              "      </script>\n",
              "    </div>\n",
              "  </div>\n",
              "  "
            ],
            "text/plain": [
              "    representation Experiment  ... prag_speaker_probs prag_speaker_rank\n",
              "0            glove         E1  ...           0.002025                11\n",
              "1            glove         E1  ...           0.000493               147\n",
              "2            glove         E1  ...           0.000239               474\n",
              "3            glove         E1  ...           0.003153                 5\n",
              "4            glove         E1  ...           0.001181                31\n",
              "..             ...        ...  ...                ...               ...\n",
              "580          glove         E2  ...           0.000303               400\n",
              "581          glove         E2  ...           0.000186               991\n",
              "582          glove         E2  ...           0.000198               889\n",
              "583          glove         E2  ...           0.000418               214\n",
              "584          glove         E2  ...           0.000336               323\n",
              "\n",
              "[1096 rows x 10 columns]"
            ]
          },
          "metadata": {},
          "execution_count": 18
        }
      ]
    },
    {
      "cell_type": "code",
      "execution_count": null,
      "metadata": {
        "id": "9cqRx40xQuKS"
      },
      "outputs": [],
      "source": [
        "## for writing files\n",
        "from google.colab import drive\n",
        "drive.mount('/content/drive',force_remount=True)\n",
        "parentfolder = \"/content/drive/My Drive/search-models/\""
      ]
    }
  ],
  "metadata": {
    "colab": {
      "collapsed_sections": [],
      "machine_shape": "hm",
      "name": "search-models.ipynb",
      "provenance": [],
      "authorship_tag": "ABX9TyON0XK1pXsGZILiN2+t6lGg",
      "include_colab_link": true
    },
    "kernelspec": {
      "display_name": "Python 3",
      "name": "python3"
    },
    "language_info": {
      "name": "python"
    }
  },
  "nbformat": 4,
  "nbformat_minor": 0
}