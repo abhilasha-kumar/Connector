{
  "nbformat": 4,
  "nbformat_minor": 0,
  "metadata": {
    "colab": {
      "name": "search-models.ipynb",
      "provenance": [],
      "collapsed_sections": [],
      "toc_visible": true,
      "machine_shape": "hm",
      "authorship_tag": "ABX9TyNOWQnw/YYktclgeYi6VbPB",
      "include_colab_link": true
    },
    "kernelspec": {
      "name": "python3",
      "display_name": "Python 3"
    },
    "language_info": {
      "name": "python"
    }
  },
  "cells": [
    {
      "cell_type": "markdown",
      "metadata": {
        "id": "view-in-github",
        "colab_type": "text"
      },
      "source": [
        "<a href=\"https://colab.research.google.com/github/abhilasha-kumar/Connector/blob/master/search-models/search_models.ipynb\" target=\"_parent\"><img src=\"https://colab.research.google.com/assets/colab-badge.svg\" alt=\"Open In Colab\"/></a>"
      ]
    },
    {
      "cell_type": "markdown",
      "metadata": {
        "id": "LH3K3UX0r_uM"
      },
      "source": [
        "# Importing packages and mounting drive"
      ]
    },
    {
      "cell_type": "code",
      "metadata": {
        "id": "kLHTgCLD-5VS"
      },
      "source": [
        "import networkx as nx\n",
        "import random\n",
        "import matplotlib.pyplot as plt\n",
        "import operator\n",
        "import pandas as pd\n",
        "import seaborn as sns\n",
        "import matplotlib.pyplot as plt\n",
        "import warnings\n",
        "warnings.simplefilter(action='ignore', category=FutureWarning)\n",
        "import heapq\n",
        "import pandas as pd\n",
        "import scipy.spatial.distance\n",
        "import numpy as np\n",
        "from numpy.random import randint\n",
        "from sklearn.preprocessing import MinMaxScaler, normalize\n",
        "from numpy.linalg import matrix_power\n",
        "from scipy import stats\n",
        "from sklearn import preprocessing\n",
        "from numpy.random import choice\n",
        "import json\n",
        "import heapq\n",
        "import json\n",
        "import itertools\n",
        "import sys\n",
        "import scipy.spatial.distance\n",
        "from scipy.special import softmax\n",
        "\n"
      ],
      "execution_count": null,
      "outputs": []
    },
    {
      "cell_type": "code",
      "metadata": {
        "colab": {
          "base_uri": "https://localhost:8080/"
        },
        "id": "y_BINlf1Pwzc",
        "outputId": "13b4057f-a760-4375-b653-de683e065adb"
      },
      "source": [
        "from google.colab import drive\n",
        "drive.mount('/content/drive',force_remount=True)"
      ],
      "execution_count": null,
      "outputs": [
        {
          "output_type": "stream",
          "name": "stdout",
          "text": [
            "Mounted at /content/drive\n"
          ]
        }
      ]
    },
    {
      "cell_type": "markdown",
      "metadata": {
        "id": "54ZMyOWfsEGS"
      },
      "source": [
        "# Importing embeddings"
      ]
    },
    {
      "cell_type": "code",
      "metadata": {
        "colab": {
          "base_uri": "https://localhost:8080/"
        },
        "id": "BxoEmRAHPuDn",
        "outputId": "ecf647c6-ea51-45d5-d71f-8c196b3259b6"
      },
      "source": [
        "# import glove embeddings\n",
        "representations = {}\n",
        "parentfolder = \"/content/drive/My Drive/Connector-CogSci2021/Descriptive analyses and model predictions/\"\n",
        "representations['glove'] = pd.read_csv(parentfolder +\"/glove_embeddings.csv\").transpose().values\n",
        "vocab = pd.DataFrame(list(pd.read_csv(parentfolder +\"/glove_embeddings.csv\").columns), columns=[\"vocab_word\"])\n",
        "print(f\"embeddings are shaped:\", representations['glove'].shape)\n",
        "print(f\"vocab is {len(vocab)} words\")"
      ],
      "execution_count": null,
      "outputs": [
        {
          "output_type": "stream",
          "name": "stdout",
          "text": [
            "embeddings are shaped: (12218, 300)\n",
            "vocab is 12218 words\n"
          ]
        }
      ]
    },
    {
      "cell_type": "markdown",
      "metadata": {
        "id": "urqF5SZjsF7h"
      },
      "source": [
        "# Defining search functions"
      ]
    },
    {
      "cell_type": "code",
      "metadata": {
        "id": "BxhSJwQlQcFO"
      },
      "source": [
        "def create_similarity_matrix(matrix, vector, N):\n",
        "  matrix = 1-scipy.spatial.distance.cdist(matrix, vector, 'cosine').reshape(-1)\n",
        "  matrix = matrix.reshape((N,N))\n",
        "  return matrix\n",
        "\n",
        "def create_graph(similarity_matrix, threshold):\n",
        "  ## make diagonal 0 and all values below a certain threshold also 0: can parameterize this eventually\n",
        "  x = np.copy(similarity_matrix)\n",
        "  np.fill_diagonal(x, 0)\n",
        "  x[x < threshold] = 0\n",
        "  G = nx.from_numpy_matrix(np.matrix(x), create_using=nx.DiGraph)\n",
        "  return G\n",
        "\n",
        "def random_walk(word, n_steps):\n",
        "  nodes_visited = []\n",
        "  random_node = list(vocab.vocab_word).index(word) \n",
        "  nodes_visited.append(random_node)\n",
        "  dict_counter = {} #initialise the value for all nodes as 0 (i.e., each node has been visited 0 times)\n",
        "  for i in range(Graph.number_of_nodes()):\n",
        "      dict_counter[i] = 0\n",
        "  # update dict_count for the chosen random node by 1 (since walk starts here)\n",
        "  dict_counter[random_node] = dict_counter[random_node]+1\n",
        "\n",
        "  #Traversing through the neighbors of start node\n",
        "  #increment by traversing through all neighbors nodes ()\n",
        "  for i in range(n_steps):\n",
        "      list_for_nodes = list(Graph.neighbors(random_node))\n",
        "      neighbors = {}\n",
        "      for n in list_for_nodes:\n",
        "        neighbors[n] = Graph.edges[(random_node,n)]['weight']\n",
        "      if len(list_for_nodes)==0:\n",
        "        # if random_node having no outgoing edges\n",
        "        # choose a different random node and update its visit count\n",
        "        random_node = random.choice([i for i in range(Graph.number_of_nodes())])\n",
        "        dict_counter[random_node] = dict_counter[random_node]+1\n",
        "        nodes_visited.append(random_node)\n",
        "      else:\n",
        "        #choose a node randomly from neighbors of current random_node\n",
        "        random_node = random.choices(population = list_for_nodes, k = 1,\n",
        "                weights=list(neighbors.values()))[0]\n",
        "        dict_counter[random_node] = dict_counter[random_node]+1\n",
        "        nodes_visited.append(random_node)\n",
        "          \n",
        "  ## return the words visited and the counts of each time a node was visited (in the order of vocab) as a numpy array\n",
        "\n",
        "  words_visited = [list(vocab.vocab_word)[index] for index in nodes_visited]\n",
        "\n",
        "  return words_visited, np.fromiter(dict_counter.values(), dtype=float)\n",
        "\n",
        "def union_intersection(w1,w2, n_steps, n_walks, vocabulary):\n",
        "  # starts n_walks independent random walks for n_steps, and computes union and intersection \n",
        "  rw_w1 = np.sum(np.array([random_walk(w1, n_steps)[1] for i in range(n_walks)]), axis = 0)\n",
        "  rw_w2 = np.sum(np.array([random_walk(w2, n_steps)[1] for i in range(n_walks)]), axis = 0)\n",
        "\n",
        "  v = vocabulary.copy()\n",
        "\n",
        "  v[\"w1_visited_count\"] = rw_w1.tolist()\n",
        "  v[\"w2_visited_count\"] = rw_w2.tolist()\n",
        "\n",
        "  v[\"w1*w2\"] = v[\"w1_visited_count\"]*v[\"w2_visited_count\"]\n",
        "\n",
        "  ## compute non-zero, i.e., all visited nodes \n",
        "\n",
        "  nonzero_w1 = list(v.loc[v['w1_visited_count'] != 0].vocab_word)\n",
        "  nonzero_w2 = list(v.loc[v['w2_visited_count'] != 0].vocab_word)\n",
        "\n",
        "  ## compute union and intersection\n",
        "\n",
        "  union = set(nonzero_w1).union(set(nonzero_w2))\n",
        "  intersection = set(nonzero_w1).intersection(set(nonzero_w2))\n",
        "\n",
        "  ## we also need the counts of these visited nodes, sorted by nodes visited highly by both words\n",
        "\n",
        "  union_df = v.loc[v['vocab_word'].isin(list(union))].sort_values(by='w1*w2', ascending=False)\n",
        "  intersection_df = v.loc[v['vocab_word'].isin(list(intersection))].sort_values(by='w1*w2', ascending=False)\n",
        "\n",
        "  return union_df, intersection_df\n",
        "\n",
        "def predication_vector(w1, w2, m, k):\n",
        "  # computes a predication vector based on kintsch's predication algorithm\n",
        "  # in this algorithm, first m neighbors of w1 are computed\n",
        "  # a network is created using m, w1, and w2 with inhibitory links between the m nodes\n",
        "  # this network is then \"integrated\" until steady state, and then\n",
        "  # a centroid is calculated using w1, w2, and k most neighbors of w2\n",
        "  ## details of spreading activation:\n",
        "  # More specific, an activation vector representing the initial activation\n",
        "  # values of all nodes in the net is postmultiplied repeatedly with\n",
        "  # the connectivity matrix. After each multiplication the activation\n",
        "  # values are renormalized: Negative values are set to zero,\n",
        "  # and each of the positive activation values is divided by the sum\n",
        "  # of all activation values, so that the total activation on each cycles\n",
        "  # remains at a value of one (e.g., Rumelhart & McClelland,\n",
        "  # 1986). Usually, the system finds a stable state fairly rapidly;\n",
        "    \n",
        "    "
      ],
      "execution_count": null,
      "outputs": []
    },
    {
      "cell_type": "markdown",
      "metadata": {
        "id": "VtuHKP7ItXDy"
      },
      "source": [
        "# Speaker functions\n",
        "These are directly copied over from the cogsci notebook except for the last two functions that restrict the RSA functions to set of candidates passed as function arguments"
      ]
    },
    {
      "cell_type": "code",
      "metadata": {
        "id": "hlh_haE7tazm"
      },
      "source": [
        "parentfolder = \"/content/drive/My Drive/Connector-CogSci2021/Descriptive analyses and model predictions/\"\n",
        "with open(parentfolder + 'boards.json', 'r') as json_file:\n",
        "    boards = json.load(json_file)\n",
        "\n",
        "expdata = pd.read_csv(parentfolder + \"final_board_clues_all.csv\", encoding= 'unicode_escape')\n",
        "sample_df = pd.read_csv(parentfolder + \"vocab.csv\")\n",
        "\n",
        "def compute_board_combos(board_name):\n",
        "    board = boards[board_name]\n",
        "    all_possible_combs = list(itertools.combinations(board, 2))\n",
        "    combs_df = pd.DataFrame(all_possible_combs, columns =['Word1', 'Word2'])\n",
        "    combs_df[\"wordpair\"] = combs_df[\"Word1\"] + '-'+ combs_df[\"Word2\"]\n",
        "    return combs_df\n",
        "\n",
        "allcombinations_df = pd.DataFrame(columns=['Board', 'Word1','Word2', 'wordpair'])\n",
        "board_combos = {board_name : compute_board_combos(board_name) for board_name in boards.keys()}\n",
        "\n",
        "for board in board_combos:\n",
        "    newdf = board_combos[board]\n",
        "    newdf.insert(loc=0, column='Board', value=board)\n",
        "    allcombinations_df = pd.concat([allcombinations_df, newdf])\n",
        "\n",
        "def get_wordpair_list(board_combos, board_name) :\n",
        "    return list(board_combos[board_name]['wordpair'])\n",
        "\n",
        "def create_board_matrix(combs_df, context_board, embeddings):\n",
        "    # grab subset of words in given board and their corresponding glove vectors\n",
        "    board_df = sample_df[sample_df['Word'].isin(context_board)]\n",
        "    board_word_indices = list(board_df.index)\n",
        "    board_words = board_df[\"Word\"]\n",
        "    board_vectors = embeddings[board_word_indices]\n",
        "\n",
        "    ## clue_sims is the similarity of ALL clues in full searchspace (size N) to EACH word on board (size 20)\n",
        "    clue_sims = 1 - scipy.spatial.distance.cdist(board_vectors, embeddings, 'cosine')\n",
        "\n",
        "    ## once we have the similarities of the clue to the words on the board\n",
        "    ## we define a multiplicative function that maximizes these similarities\n",
        "    board_df.reset_index(inplace = True)\n",
        "\n",
        "    ## next we find the product of similarities between c-w1 and c-w2 for that specific board's 190 word-pairs\n",
        "    ## this gives us a 190 x N array of product similarities for a given combs_df\n",
        "    ## specifically, for each possible pair, pull out \n",
        "    f_w1_list =  np.array([clue_sims[board_df[board_df[\"Word\"]==row[\"Word1\"]].index.values[0]]\n",
        "                         for  index, row in combs_df.iterrows()])\n",
        "    f_w2_list =  np.array([clue_sims[board_df[board_df[\"Word\"]==row[\"Word2\"]].index.values[0]] \n",
        "                         for  index, row in combs_df.iterrows()])\n",
        "\n",
        "    # result is of length 190 for the product of similarities (i.e. how similar each word i is to BOTH in pair)\n",
        "    # note that cosine is in range [-1, 1] so we have to convert to [0,1] for this conjunction to be valid\n",
        "    return ((f_w1_list + 1) /2) * ((f_w2_list + 1)/2)\n",
        "\n",
        "board_matrices = {\n",
        "    key : {board_name : create_board_matrix(board_combos[board_name], boards[board_name], embedding) \n",
        "           for board_name in boards.keys()}\n",
        "    for (key, embedding) in representations.items()\n",
        "}\n",
        "\n",
        "def literal_guesser_np(board_name, representation):\n",
        "    boardmatrix = board_matrices[representation][board_name]\n",
        "    return softmax(boardmatrix, axis=0)\n",
        "\n",
        "def pragmatic_speaker_np(board_name, beta, costweight, representation):\n",
        "    literal_guesser_prob = np.log(literal_guesser_np(board_name, representation))\n",
        "    clues_cost = -np.array(list(sample_df[\"LgSUBTLWF\"]))\n",
        "    utility = (1-costweight) * literal_guesser_prob - costweight * clues_cost\n",
        "    return softmax(beta * utility, axis = 1)\n",
        "\n",
        "## define new \"candidate\" functions\n",
        "\n",
        "def pragmatic_speaker_candidates(board_name, beta, costweight, representation, candidates):\n",
        "    candidate_index = [list(sample_df[\"Word\"]).index(w) for w in candidates]\n",
        "    literal_guesser_prob = np.log(literal_guesser_candidates(board_name, representation, candidates))\n",
        "    clues_cost = -np.array([list(sample_df[\"LgSUBTLWF\"])[i] for i in candidate_index])\n",
        "    utility = (1-costweight) * literal_guesser_prob - costweight * clues_cost\n",
        "    return softmax(beta * utility, axis = 1)\n",
        "\n",
        "def literal_guesser_candidates(board_name, representation, candidates):\n",
        "    boardmatrix = board_matrices[representation][board_name]\n",
        "    ## here we restrict the softmax to only certain candidates\n",
        "    candidate_index = [list(sample_df[\"Word\"]).index(w) for w in candidates]\n",
        "    restricted_boardmatrix = boardmatrix[:,candidate_index]\n",
        "    return softmax(restricted_boardmatrix, axis=0)\n"
      ],
      "execution_count": null,
      "outputs": []
    },
    {
      "cell_type": "markdown",
      "metadata": {
        "id": "c46cGdcHMM2q"
      },
      "source": [
        "## Running an example"
      ]
    },
    {
      "cell_type": "code",
      "metadata": {
        "id": "_QJnrnBGOZ26"
      },
      "source": [
        "threshold = 0.4\n",
        "sim_matrix_glove = create_similarity_matrix(representations['glove'], representations['glove'], representations['glove'].shape[0])\n",
        "Graph = create_graph(sim_matrix_glove, threshold)"
      ],
      "execution_count": null,
      "outputs": []
    },
    {
      "cell_type": "code",
      "metadata": {
        "colab": {
          "base_uri": "https://localhost:8080/"
        },
        "id": "A4voFxHxOb22",
        "outputId": "33dfc71f-4bc4-4765-d756-6ed6ce30c1da"
      },
      "source": [
        "target = 'trauma-weird'\n",
        "w1, w2 = target.split(sep = \"-\")\n",
        "n_steps = 5\n",
        "n_walks = 1000\n",
        "\n",
        "print(f\"example of a random walk of {n_steps} steps from {w1}\",random_walk(w1, n_steps))\n",
        "print(f\"example of a random walk of {n_steps} steps from {w2}\",random_walk(w2, n_steps))\n",
        "\n",
        "# computing union and intersection of independent walks\n",
        "u, i = union_intersection(w1,w2, n_steps, n_walks, vocab)\n",
        "\n",
        "union_candidates = list(u.vocab_word)\n",
        "int_candidates = list(i.vocab_word)\n",
        "\n",
        "print(f\"{len(u)} items in union: {union_candidates}\")\n",
        "print(f\"{len(i)} items in intersection: {int_candidates}\")"
      ],
      "execution_count": null,
      "outputs": [
        {
          "output_type": "stream",
          "name": "stdout",
          "text": [
            "example of a random walk of 5 steps from trauma (['trauma', 'hospital', 'center', 'front', 'it', 'beautiful'], array([0., 0., 0., ..., 0., 0., 0.]))\n",
            "example of a random walk of 5 steps from weird (['weird', 'thing', 'warn', 'see', 'identify', 'label'], array([0., 0., 0., ..., 0., 0., 0.]))\n",
            "2999 items in union: ['trauma', 'something', 'kind', 'thing', 'horrific', 'emotional', 'horrible', 'really', 'experience', 'seem', 'ridiculous', 'symptom', 'nothing', 'story', 'certain', 'bring', 'suffering', 'risk', 'strange', 'hilarious', 'disease', 'even', 'could', 'therefore', 'wonder', 'fact', 'fascinating', 'horror', 'disturbing', 'often', 'grief', 'terrifying', 'stress', 'cause', 'difficulty', 'upon', 'obvious', 'way', 'particular', 'happen', 'quite', 'might', 'unpleasant', 'enable', 'serious', 'believe', 'terrible', 'sort', 'always', 'life', 'shocking', 'painful', 'get', 'heal', 'want', 'awful', 'rather', 'everyone', 'affect', 'put', 'whose', 'ability', 'childhood', 'simply', 'nevertheless', 'pregnant', 'actually', 'explore', 'think', 'enjoyable', 'either', 'certainly', 'struggle', 'presence', 'anyway', 'entertaining', 'demonstrate', 'almost', 'encounter', 'still', 'worry', 'love', 'possibly', 'previous', 'pointless', 'clearly', 'neither', 'subsequent', 'likely', 'remember', 'shameful', 'suppose', 'interesting', 'already', 'inspire', 'danger', 'aspect', 'relate', 'may', 'mistake', 'joy', 'continue', 'mysterious', 'try', 'circumstance', 'shock', 'surprising', 'personal', 'person', 'greatest', 'topic', 'feel', 'hope', 'define', 'arriving', 'understand', 'context', 'remind', 'realize', 'full', 'recently', 'behavior', 'furthermore', 'violent', 'embarrassing', 'horrifying', 'social', 'bad', 'determine', 'unexpected', 'awaken', 'advise', 'afraid', 'failure', 'need', 'addition', 'sometimes', 'intellectual', 'concern', 'instead', 'excitement', 'emotion', 'comment', 'health', 'kidney', 'say', 'fail', 'gruesome', 'occasionally', 'appreciate', 'anger', 'yet', 'obviously', 'regard', 'difficult', 'science', 'witty', 'little', 'world', 'explain', 'prevent', 'condition', 'discomfort', 'note', 'unfortunate', 'expect', 'suddenly', 'next', 'lose', 'trouble', 'method', 'comfort', 'unlikely', 'free time', 'mother', 'compare', 'quickly', 'earlier', 'especially', 'dream', 'focus', 'rest', 'real', 'manner', 'associate', 'nature', 'complete', 'choose', 'similar', 'indeed', 'father', 'seeking', 'hurt', 'interest', 'hallucination', 'whatever', 'where', 'whether', 'besides', 'contribute', 'immediately', 'depressing', 'anything', 'situation', 'past', 'case', 'despite', 'help', 'knowledge', 'instance', 'view', 'rely', 'late', 'afterwards', 'happy', 'least', 'animal', 'anguish', 'however', 'research', 'insomnia', 'attention', 'annoying', 'paranoia', 'ironic', 'psychologist', 'honest', 'useful', 'desire', 'finding', 'fear', 'eat', 'responsible', 'awkward', 'enough', 'unique', 'tragic', 'remain', 'extremely', 'bent', 'suspect', 'avoid', 'aim', 'inappropriate', 'perhaps', 'decade', 'somehow', 'peculiar', 'information', 'insane', 'insist', 'spite', 'corpse', 'joke', 'official', 'aid', 'idea', 'numerous', 'wit', 'not sure', 'like', 'consequence', 'stuffer', 'nightmare', 'clip', 'murder', 'much', 'accomplish', 'moment', 'decide', 'include', 'anyone', 'hand', 'frequently', 'put together', 'brutal', 'today', 'thought', 'usually', 'great', 'probably', 'pretend', 'girl', 'ever', 'possible', 'possibility', 'popular', 'poetry', 'seriously', 'surprise', 'touch', 'tough', 'satisfying', 'drunk', 'take', 'dramatic', 'subject', 'dull', 'dangerous', 'scene', 'detail', 'entirely', 'shift', 'contain', 'tell', 'education', 'depend', 'contrast', 'century', 'distinction', 'miserable', 'forgetting', 'weep', 'kid', 'get ready', 'kill', 'genuine', 'laugh', 'assume', 'let', 'go', 'normal', 'aware', 'away', 'literature', 'worse', 'location', 'girlfriend', 'prompt', 'following', 'imagination', 'among', 'initial', 'inherent', 'people', 'perceive', 'perfect', 'evident', 'grab', 'home', 'highlight', 'poor', 'interested', 'also', 'well', 'read', 'less', 'inspiration', 'regret', 'fascinate', 'unaware', 'beautiful', 'expression', 'young', 'nervousness', 'relationship', 'would', 'retire', 'better', 'mention', 'reflect', 'middle', 'recent', 'miss', 'suitable', 'criminal', 'creativity', 'credit', 'matter', 'crime', 'memory', 'March', 'specific', 'common', 'speculate', 'critical', 'our', 'cultural', 'money', 'interaction', 'sorrow', 'intense', 'outside', 'subtle', 'complain', 'step', 'loneliness', 'concept', 'successful', 'none', 'subconscious', 'nonetheless', 'consistent', 'contact', 'legal', 'number', 'leave', 'lawyer', 'suck', 'sudden', 'luck', 'completely', 'make', 'keeping', 'keep', 'conversation', 'conclude', 'officer', 'job', 'myth', 'evidence', 'intend', 'emphasize', 'raise', 'for sure', 'sustain', 'see', 'forehead', 'secure', 'follow', 'economic', 'scream', 'effect', 'fill', 'fearful', 'save', 'reluctant', 'far', 'part', 'remove', 'end', 'endure', 'fall', 'faith', 'rule', 'enter', 'extensive', 'entire', 'response', 'exist', 'examine', 'exactly', 'eventually', 'quick', 'self', 'full stop', 'sending', 'someone', 'deadly', 'imply', 'picture', 'piece', 'ignore', 'house', 'highly', 'describe', 'hero', 'despicable', 'hence', 'hate', 'hardship', 'precisely', 'present', 'difference', 'different', 'gory', 'direction', 'disappointed', 'gift', 'gesture', 'genre', 'document', 'generally', 'gang', 'pull', 'fully', 'pity', 'zombie', 'admiration', 'uncomfortable', 'author', 'audience', 'week', 'best friend', 'action', 'term', 'weather', 'understanding', 'afford', 'together', 'amount', 'take part', 'activity', 'apart', 'useless', 'authority', 'back', 'alongside', 'thoughtful', 'usual', 'apply', 'vision', 'tend', 'teen', 'baby', 'article', 'violence', 'ten', 'threat', 'unless', 'achieve', 'artistic', 'attribute', 'cell', 'value', 'actual', 'terrify', 'basic', 'wait', 'work', 'angry', 'analyze', 'another', 'brief', 'close', 'change', 'victory', 'slavery', 'eye', 'careful', 'southern', 'single', 'factor', 'adult', 'notion', 'refuse', 'woman', 'whereas', 'representative', 'despair', 'cry', 'whenever', 'notice', 'crucial', 'carry', 'vampire', 'source', 'sophisticated', 'wish', 'relation', 'somebody', 'unemployment', 'relatives', 'song', 'objective', 'heart', 'soon', 'last', 'largely', 'beyond', 'hardly', 'language', 'sophistication', 'curved', 'November', 'delight', 'betray', 'veteran', 'slight', 'occurrence', 'old man', 'general', 'jealousy', 'easy', 'trivial', 'painting', 'huge', 'draw', 'brown', 'send', 'brother', 'broad', 'plan', 'we', 'place', 'inform', 'and', 'husband', 'identify', 'develop', 'boyfriend', 'ensure', 'engage', 'warn', 'body part', 'encourage', 'permit', 'transform', 'embarrassment', 'answer', 'personality', 'impression', 'impossible', 'important', 'America', 'service', 'TRUE', 'divorced', 'onward', 'extend', 'opening', 'opinion', 'oppose', 'irritating', 'heel', 'investigate', 'resource', 'respect', 'interview', 'point', 'business', 'discover', 'exclude', 'disdain', 'shatter', 'hole', 'disgust', 'bite', 'except', 'although', 'distinct', 'volume', 'distinguished', 'sex', 'disturb', 'evil', 'divorce', 'invite', 'arrange', 'frequent', 'committee', 'function', 'lyrical', 'purchase', 'assert', 'acknowledge', 'modern', 'grateful', 'nervous', 'low', 'available', 'complicated', 'commence', 'forth', 'punishment', 'quality', 'accuse', 'stiff', 'naturally', 'provision', 'convey', 'suggestion', 'message', 'ready', 'natural', 'graceful', 'contemporary', 'compassion', 'nausea', 'awe', 'navigate', 'project', 'force', 'temporary', 'forgive', 'form', 'mankind', 'food', 'stranger', 'member', 'attempt', 'acceptable', 'negative', 'greater', 'write', 'steal', 'meaningless', 'finish', 'friendship', 'adapt', 'coverage', 'future', 'church', 'genius', 'workshop', 'additional', 'confide', 'prior', 'movement', 'spiritual', 'spirited', 'creative', 'link', 'spine', 'garment', 'testimony', 'absence', 'meet', 'confront', 'clear', 'succumb', 'music', 'mob', 'tedious', 'longer', 'stage', 'plenty', 'volunteer', 'vulgar', 'pleasure', 'prostitution', 'plastic surgery', 'protect', 'protagonist', 'pleasurable', 'use', 'vocal', 'playful', 'vomit', 'plea', 'platform', 'pleasant', 'usage', 'pleased', 'please', 'play', 'vow', 'prostitute', 'player', 'prostate', 'vortex', 'previously', 'protein', 'picturesque', 'wall', 'pick', 'physiology', 'physics', 'physicist', 'wand', 'physician', 'provocative', 'physical', 'photography', 'upset', 'psychiatric', 'photographer', 'uprising', 'phobia', 'philosophy', 'psychiatrist', 'psychiatry', 'pharmacy', 'psychoanalysis', 'psychological', 'walkway', 'wake', 'proud', 'pigment', 'prove', 'provide', 'plaster', 'plasma', 'planning', 'plane', 'urge', 'prosperity', 'plague', 'placenta', 'vulnerable', 'pizza', 'upstairs', 'vulva', 'pituitary', 'pioneer', 'pin', 'pimp', 'waiter', 'provider', 'pike', 'upward', 'poison', 'prosper', 'processing', 'process', 'vegetable', 'pregnancy', 'prefer', 'persuade', 'vagina', 'predict', 'vehicle', 'vaccine', 'veranda', 'verify', 'potion', 'precious', 'precedent', 'prank', 'praise', 'practice', 'produce', 'practical', 'producer', 'production', 'power', 'prepare', 'vast', 'prescription', 'various', 'valuable', 'primary school', 'pretty', 'pretentious', 'principle', 'pretending', 'prison', 'prisoner', 'privacy', 'presume', 'prestige', 'probable', 'pressure', 'press', 'vague', 'varied', 'variety', 'problem', 'problematic', 'procedure', 'proceed', 'poverty', 'potential', 'prosecution', 'visit', 'political party', 'polite', 'policy', 'police', 'poke', 'prevention', 'virus', 'pointed', 'uterus', 'promote', 'proper', 'posture', 'proportion', 'visitor', 'propose', 'poetic', 'prose', 'poem', 'prosecute', 'vivid', 'podium', 'plot', 'virtual', 'ponder', 'viral', 'poorly', 'posterior', 'post', 'professor', 'veterinarian', 'victim', 'profound', 'program', 'video', 'progress', 'vile', 'possess', 'positive', 'position', 'pose', 'portray', 'vacate', 'population', 'villain', 'pop', 'violation', 'promise', 'pharmacist', 'sweet', 'war', 'word', 'North Pole', 'northern', 'normally', 'nonsense', 'worker', 'workplace', 'noise', 'noir', 'nobody', 'worsen', 'nine', 'night', 'niece', 'nice', 'worst', 'worth', 'never', 'neutral', 'neurotic', 'neurology', 'network', 'worthwhile', 'wound', 'nerve', 'neighbor', 'negotiate', 'neglect', 'needless', 'needing', 'notable', 'wooden', 'necklace', 'not enough', 'obstruction', 'obsessive', 'observe', 'obscure', 'obscene', 'wine', 'obnoxious', 'winter', 'obesity', 'obedience', 'nursing', 'nurse', 'nun', 'wire', 'wisdom', 'wise', 'wistful', 'nudity', 'nuclear', 'nuance', 'nowhere', 'without', 'witness', 'now', 'novelty', 'novel', 'not yet', 'noticeable', 'wonderful', 'wounded', 'neck', 'perspective', 'yearning', 'mosquito', 'mosaic', 'mortar', 'mortality', 'morose', 'moral', 'Moore', 'moody', 'mood', 'month', 'monster', 'yell', 'yesterday', 'modesty', 'moderate', 'young adult', 'model', 'mobility', 'younger', 'misuse', 'youngster', 'misunderstanding', 'mistrust', 'youthful', 'missionary', 'zero', 'misguided', 'misfortune', 'misery', 'mostly', 'motivation', 'necessity', 'mount', 'necessary', 'wrap', 'naughty', 'native', 'nation', 'nasty', 'narrative', 'naive', 'wrist', 'mythology', 'mythical', 'mystery', 'writer', 'mutton', 'mutter', 'must', 'musky', 'muscular', 'muscle', 'wrong', 'multiple', 'muddled', 'muddle', 'yarn', 'movie', 'yeah', 'year', 'move', 'mouse', 'obtain', 'obtuse', 'willing', 'participant', 'parlor', 'water', 'parking', 'park', 'parent', 'parasite', 'weak', 'parameter', 'parallel', 'parade', 'paper', 'papaya', 'panorama', 'wealth', 'panic', 'painkiller', 'uplifting', 'wear', 'weave', 'pagan', 'paddle', 'pack', 'website', 'wed', 'owner', 'owe', 'overwhelming', 'overwhelmed', 'overhead', 'partially', 'participation', 'wide', 'watch', 'personnel', 'persona', 'persistent', 'persist', 'perish', 'warfare', 'warmth', 'performance', 'perform', 'perfection', 'warning', 'perception', 'percent', 'warrior', 'wars', 'wasp', 'penis', 'pedestal', 'pedantic', 'pay', 'pattern', 'patriotism', 'patriotic', 'patient', 'pathology', 'pathetic', 'waste', 'passionate', 'part of', 'overdose', 'wedding', 'overcome', 'over', 'operation', 'open', 'onset', 'ongoing', 'one', 'omit', 'ominous', 'werewolf', 'west', 'wheelchair', 'older', 'okay', 'oh', 'whimsical', 'offer', 'whiny', 'whisper', 'offend', 'odd', 'white', 'white coat', 'whoever', 'whole', 'OCD', 'occur', 'occupy', 'whore', 'wicked', 'occasion', 'oppression', 'opt', 'optical', 'ought', 'ovary', 'weigh', 'outstanding', 'weight', 'weird', 'welcome', 'outrageous', 'outlandish', 'outfit', 'outer', 'outcome', 'outcast', 'welfare', 'otherwise', 'optimistic', 'other', 'orphanage', 'ornate', 'originate', 'orientation', 'organize', 'organization', 'organ', 'order', 'oral', 'opulent', 'well-being', 'option', 'pain', 'unlawful', 'upbeat', 'sloppy', 'slang', 'sleazy', 'sleek', 'sleep', 'slender', 'slogan', 'slumber', 'thrive', 'smack', 'small', 'smaller', 'smallest', 'though', 'smart', 'skull', 'skin', 'skillful', 'skilled', 'skill', 'sketch', 'thoughtless', 'sixth', 'six', 'sister', 'threaten', 'thrill', 'thriller', 'singer', 'thrilling', 'sing', 'sinful', 'smash', 'smelly', 'smoking', 'somber', 'space', 'soul', 'theology', 'sorry', 'theorize', 'sore', 'son', 'somewhat', 'theory', 'therapist', 'therapy', 'thesis', 'thick', 'someday', 'solvent', 'snap', 'sole', 'thin', 'soldier', 'software', 'sofa', 'sociology', 'things', 'society', 'thinking', 'sociable', 'third', 'sob', 'snout', 'sneak', 'sincerity', 'since', 'thank', 'shape', 'shade', 'shadowy', 'shake', 'shall', 'shame', 'tiresome', 'share', 'throat', 'sharp', 'tiredness', 'shawl', 'tired', 'shit', 'shitty', 'sexy', 'sexuality', 'sexual', 'tissue', 'sexist', 'toddler', 'severity', 'severe', 'several', 'seven', 'settle', 'toe', 'setback', 'set', 'servant', 'sermon', 'tone', 'tip', 'shocked', 'tin', 'tic', 'simplicity', 'simple', 'throw', 'silly', 'significant', 'significance', 'signature', 'signal', 'sight', 'side', 'sickness', 'thug', 'thus', 'thyroid', 'sickle', 'shoe', 'sickening', 'sick', 'sibling', 'shut', 'show', 'time', 'shout', 'shoulder', 'shorts', 'short', 'shopping', 'shop', 'timid', 'shoemaker', 'spacious', 'span', 'psychology', 'tattoo', 'tear', 'substitute', 'teaching', 'taxation', 'subtlety', 'succeed', 'task', 'teenage', 'success', 'target', 'talk', 'talented', 'suffer', 'talent', 'substance', 'technical', 'subscription', 'submit', 'technician', 'stylist', 'stylish', 'style', 'sturdy', 'stupid', 'stunning', 'stumble', 'stuffed', 'stuff', 'studying', 'study', 'student', 'sufficient', 'suggest', 'tale', 'sympathy', 'swatter', 'swell', 'suspicious', 'suspense', 'suspend', 'swing', 'sushi', 'survivor', 'survive', 'surrounded', 'surreal', 'swirl', 'surprised', 'sympathetic', 'surgical', 'tailor', 'surgery', 'syndrome', 'surgeon', 'surely', 'sure', 'system', 'tact', 'supernatural', 'superior', 'superhero', 'superb', 'sunlight', 'summer', 'tail', 'stubborn', 'teenager', 'spare', 'stark', 'spot', 'spread', 'spy', 'stab', 'stability', 'staff', 'start', 'structure', 'startle', 'terrific', 'Star Trek', 'starvation', 'starve', 'statement', 'sporty', 'splendid', 'spiteful', 'spirituality', 'terrorism', 'spirit', 'testify', 'testing', 'spinal', 'speech', 'textbook', 'spectacular', 'texture', 'specialty', 'specialist', 'special', 'speak', 'station', 'steam', 'tenure', 'tenacious', 'stronger', 'strong', 'stroke', 'strive', 'teens', 'stripper', 'television', 'striking', 'stressful', 'temper', 'template', 'strength', 'strategy', 'strategic', 'strap', 'steroid', 'strand', 'tenderness', 'strain', 'straightforward', 'stout', 'tendon', 'stories', 'store', 'stomach', 'stocky', 'stimulus', 'stimulation', 'tension', 'stick', 'series', 'separation', 'separate', 'unbelievable', 'relieve', 'unconscious', 'religion', 'religious', 'uncertainty', 'uncanny', 'unattractive', 'reference', 'unacceptable', 'remainder', 'remark', 'remarkable', 'remedy', 'unable', 'relevant', 'relaxing', 'underneath', 'understandable', 'unease', 'related', 'rejection', 'reject', 'regulation', 'regularly', 'region', 'unfair', 'refugee', 'refreshing', 'unfamiliar', 'reform', 'reflection', 'removal', 'ultimate', 'repair', 'twisted', 'tv', 'resourceful', 'resolve', 'twice', 'resolution', 'resist', 'resilient', 'resignation', 'twin', 'resident', 'reside', 'resentment', 'twist', 'resemble', 'researcher', 'repeat', 'two', 'require', 'reputation', 'type', 'repression', 'represent', 'reporter', 'report', 'typical', 'ugly', 'ulcer', 'reply', 'replicate', 'replacement', 'unhappiness', 'refer', 'sentimental', 'quiet', 'unprepared', 'puzzling', 'quarterback', 'question', 'question mark', 'unpredictable', 'quirky', 'reduction', 'quit', 'unnatural', 'racial', 'rage', 'rail', 'random', 'unprofessional', 'push', 'purpose', 'unrealistic', 'untrue', 'purple', 'punk', 'puncture', 'punch', 'unusual', 'unwise', 'publish', 'puberty', 'psychotic', 'psychotherapist', 'unworthy', 'psychosis', 'range', 'rant', 'rape', 'reason', 'reduce', 'reddish', 'unhappy', 'recover', 'reconcile', 'recommend', 'recognize', 'recognition', 'reckless', 'uninterested', 'unit', 'recall', 'rebellion', 'reassure', 'rear', 'rapidly', 'unite', 'universe', 'realistic', 'university', 'unjust', 'reading', 'reader', 'sway', 'reaction', 'raucous', 'unlike', 'rash', 'rarely', 'rare', 'respected', 'respectful', 'turn away', 'scary', 'trait', 'scandal', 'scandalous', 'scar', 'scare', 'scared', 'scatter', 'respond', 'trained', 'scenery', 'schizophrenia', 'scholarship', 'tragedy', 'traffic', 'savings', 'tranquil', 'transfer', 'satisfy', 'satisfied', 'satisfaction', 'transition', 'translate', 'Satan', 'sassy', 'translation', 'sarcastic', 'sanitation', 'salvation', 'sale', 'sail', 'saga', 'science fiction', 'scientist', 'traditional', 'totally', 'sentient', 'sensual', 'sensory', 'sensibility', 'tonight', 'sense', 'semen', 'sell', 'selfish', 'top', 'segment', 'torment', 'total', 'seek', 'seductive', 'scissors', 'touching', 'section', 'secretary', 'toward', 'second', 'season', 'toxic', 'search', 'mischievous', 'screen', 'trade', 'tradition', 'scope', 'scold', 'transplant', 'safety', 'trap', 'return', 'rib', 'rhythm', 'rhyme', 'rewarding', 'revolve', 'reviewer', 'trout', 'truck', 'review', 'revenge', 'revelation', 'truly', 'trust', 'reveal', 'truth', 'triumph', 'tuberculosis', 'retro', 'retirement', 'retina', 'retaliation', 'tumor', 'resurrection', 'result', 'restore', 'tune', 'turkey', 'turmoil', 'responsibility', 'turn', 'rich', 'ridicule', 'safe', 'triangular', 'trash', 'sadness', 'sad', 'sacrifice', 'sacred', 'ruthless', 'ruse', 'rural', 'traumatic', 'rumor', 'treat', 'treatment', 'trend', 'rude', 'round', 'trip', 'tribal', 'trick', 'rough', 'rope', 'root', 'rookie', 'romantic', 'romance', 'role model', 'rock', 'risky', 'trim', 'rise', 'rip', 'scythe', 'abandon', 'miracle', 'compromise', 'conscious', 'consciousness', 'consent', 'conservation', 'conservative', 'consider', 'consideration', 'constant', 'constipation', 'construct', 'consume', 'consumer', 'consumption', 'contagious', 'content', 'contentment', 'contents', 'connection', 'connect', 'conjunction', 'conduct', 'concave', 'conceive', 'concentrate', 'concert', 'concise', 'conclusion', 'condescending', 'conference', 'confusion', 'confess', 'confident', 'confine', 'confinement', 'conflict', 'confused', 'confusing', 'continuous', 'contradictory', 'contrary', 'couple', 'cortex', 'cost', 'costly', 'costume', 'cough', 'counsel', 'country', 'courageous', 'correspondence', 'course', 'court', 'courteous', 'cousin', 'cowardly', 'crack', 'craft', 'corridor', 'corporate', 'control', 'convincing', 'controversial', 'conundrum', 'convenience', 'convex', 'conviction', 'convince', 'convinced', 'cool', 'corny', 'cooler', 'cooling', 'cooperative', 'cop', 'cope', 'cord', 'core', 'computer', 'composition', 'check', 'compose', 'cinema', 'cite', 'city', 'claim', 'classy', 'claw', 'cleft', 'clerk', 'clever', 'client', 'climate', 'climax', 'climber', 'clinic', 'clinical', 'closely', 'clothes', 'Cinderella', 'chronic', 'Christmas', 'chewy', 'cheeky', 'cheer', 'cheerful', 'cheery', 'cheesy', 'cherish', 'chest', 'chicken', 'cholesterol', 'child', 'childish', 'childlike', 'chill', 'chilling', 'chin', 'choice', 'clothing', 'clumsy', 'cocaine', 'community', 'comic', 'commercial', 'commit', 'commitment', 'communicate', 'communication', 'communist', 'comparative', 'comedy', 'comparison', 'compel', 'compete', 'complaint', 'complication', 'compliment', 'component', 'comfortable', 'comedian', 'cockroach', 'college', 'cocky', 'code', 'cognitive', 'cold', 'collapse', 'collection', 'collective', 'collision', 'come', 'colon', 'color', 'colorful', 'coma', 'combat', 'combination', 'combine', 'cramp', 'crane', 'crashing', 'crazy', 'diminish', 'direct', 'dirty', 'disability', 'disabled', 'disadvantage', 'disappear', 'disappoint', 'disappointing', 'disappointment', 'disbelief', 'discipline', 'disco', 'discourage', 'discrete', 'discuss', 'discussion', 'dimension', 'diligent', 'dilemma', 'diagnose', 'detailed', 'detain', 'detective', 'development', 'deviant', 'devour', 'diabetes', 'diagnosis', 'digit', 'dialogue', 'diarrhea', 'diary', 'dick', 'dictatorship', 'die', 'differ', 'disgrace', 'disguise', 'disgusting', 'downtrodden', 'dominate', 'domination', 'door', 'dose', 'double', 'doubt', 'downstairs', 'dozen', 'domain', 'dragon', 'drama', 'drape', 'dread', 'dreadful', 'dreamy', 'dreary', 'dominant', 'dog', 'dishonest', 'disrespectful', 'dishonor', 'dislike', 'dismal', 'dismiss', 'disorder', 'display', 'disprove', 'distant', 'documentary', 'distinguish', 'distress', 'diverse', 'divide', 'divine', 'doctor', 'Doctor Who', 'destructive', 'despise', 'designer', 'cynical', 'current', 'curse', 'custody', 'cut', 'cute', 'cycle', 'cylinder', 'dad', 'curiosity', 'damage', 'damnation', 'dark', 'dark blue', 'database', 'date', 'daughter', 'curious', 'cure', 'dazed', 'critic', 'create', 'creation', 'creature', 'creepy', 'crisis', 'crisp', 'criterion', 'criticize', 'cunning', 'cruel', 'cruelty', 'crummy', 'crush', 'cuisine', 'cultivate', 'culture', 'day', 'dead', 'designate', 'dentist', 'delusion', 'demand', 'demeanor', 'dementia', 'demon', 'denounce', 'dental', 'deny', 'delicate', 'depart', 'department', 'dependent', 'depression', 'depressive', 'deserve', 'design', 'delightful', 'deity', 'deal', 'decorative', 'dear', 'death', 'debate', 'deceive', 'December', 'decent', 'decision', 'decrease', 'definition', 'deem', 'deep', 'deeply', 'defend', 'deficit', 'definite', 'definitely', 'cheek', 'charming', 'drown', 'ambition', 'anticipate', 'antidote', 'anxiety', 'anxious', 'anybody', 'anywhere', 'apathy', 'apex', 'apparent', 'appeal', 'appealing', 'appear', 'appearance', 'appendage', 'appetite', 'application', 'apprehend', 'antibiotic', 'anthropology', 'anthem', 'anecdote', 'ambush', 'amongst', 'amusing', 'anal', 'analysis', 'anatomy', 'ancient', 'anemia', 'anterior', 'angst', 'animation', 'ankle', 'annoy', 'annoyance', 'annoyed', 'anorexia', 'apprehension', 'apprehensive', 'apprentice', 'ass', 'artifact', 'artist', 'ashamed', 'aside', 'ask', 'asleep', 'aspirin', 'assassin', 'artery', 'assassination', 'assault', 'assemble', 'assess', 'assign', 'assignment', 'assist', 'arthritis', 'art', 'approach', 'argue', 'appropriate', 'approval', 'April', 'arch', 'architecture', 'are', 'area', 'argument', 'arrogant', 'arise', 'arm', 'around', 'arousal', 'array', 'arrest', 'arrival', 'ambulance', 'ambiguous', 'charm', 'amazing', 'across', 'act', 'active', 'activist', 'acute', 'add', 'addict', 'addicted', 'addiction', 'additionally', 'address', 'adequate', 'admire', 'admit', 'adolescence', 'adolescent', 'adopt', 'acronym', 'acidic', 'achievement', 'accent', 'able', 'abnormal', 'absolutely', 'abstract', 'absurd', 'abuse', 'academic', 'accept', 'ache', 'acceptance', 'access', 'accident', 'accord', 'accordion', 'account', 'accumulate', 'adorable', 'advanced', 'advantage', 'alloy', 'algae', 'alien', 'alive', 'allergic', 'allergies', 'allergy', 'allow', 'ally', 'alarm', 'alone', 'altar', 'alter', 'alternate', 'alternative', 'aluminum', 'amaze', 'alcoholism', 'airy', 'adventure', 'agency', 'adventurous', 'advertising', 'advice', 'Advil', 'affection', 'age', 'aged', 'agent', 'aircraft', 'ages', 'agony', 'agree', 'agreeable', 'agreement', 'aids', 'ailment', 'assistance', 'assistant', 'assure', 'asthma', 'breast', 'breathing', 'breeze', 'breezy', 'brilliant', 'brittle', 'broken', 'bruise', 'brutality', 'bubblegum', 'bubbly', 'bubonic', 'buffalo', 'building', 'bully', 'bunch', 'bushy', 'break', 'bravery', 'brave', 'boring', 'body', 'boisterous', 'bolt', 'bomb', 'bone', 'book', 'boredom', 'bother', 'brash', 'bounce', 'bouncy', 'boundary', 'bow', 'bowel', 'boy', 'brain', 'buy', 'cake', 'calamity', 'challenge', 'cease', 'celebrity', 'center', 'centimeter', 'cerebral', 'ceremony', 'certainty', 'challenging', 'catchy', 'championship', 'chance', 'chaotic', 'character', 'charge', 'charisma', 'charity', 'cave', 'casual', 'call', 'capable', 'callous', 'camera', 'camp', 'campaign', 'campus', 'cancer', 'capability', 'captive', 'carving', 'cardiac', 'care', 'career', 'carefree', 'careless', 'cargo', 'cartoon', 'bodily', 'boast', 'board', 'basket', 'balance', 'bamboo', 'band', 'banner', 'barber', 'bartender', 'base', 'bastard', 'badly', 'beacon', 'beat', 'beauty', 'befuddled', 'beg', 'beginning', 'belief', 'bag', 'bad guy', 'belly', 'audible', 'astonishing', 'astounding', 'asylum', 'attack', 'attentive', 'attitude', 'attractive', 'aunt', 'bacteria', 'aura', 'autism', 'awake', 'awareness', 'awesome', 'bachelor', 'backwards', 'believable', 'belong', 'blunt', 'bleeding', 'bittersweet', 'bizarre', 'black magic', 'bladder', 'blast', 'bleak', 'bleed', 'blend', 'bitch', 'blind', 'blockage', 'blonde', 'bloody', 'blow', 'blowjob', 'blue', 'bitter', 'bit', 'benefit', 'biggest', 'berate', 'beside', 'betrayal', 'bias', 'biblical', 'big', 'bigger', 'bigotry', 'birth control', 'billion', 'binary', 'bind', 'biography', 'biological', 'biology', 'birth', 'drop', 'dry', 'minute', 'incredible', 'inhabitant', 'initiate', 'inject', 'injure', 'injured', 'injury', 'injustice', 'inmate', 'innocent', 'innovation', 'input', 'insanity', 'insert', 'inside', 'insight', 'insightful', 'inspired', 'informal', 'influenza', 'influential', 'inept', 'India', 'Indians', 'indicate', 'indication', 'indigestion', 'individual', 'industry', 'inequality', 'infinite', 'inevitable', 'infamous', 'infect', 'infected', 'infection', 'infectious', 'infestation', 'inspiring', 'install', 'institution', 'investigator', 'intrinsic', 'introspective', 'introverted', 'intuitive', 'invasive', 'invention', 'investigation', 'involve', 'intrigue', 'irony', 'irrelevant', 'irresponsible', 'irritate', 'irritated', 'irritation', 'isolate', 'intriguing', 'intricate', 'insufficient', 'intercourse', 'insulin', 'insult', 'insurance', 'integrate', 'intelligent', 'intent', 'intention', 'interior', 'intoxication', 'internal', 'interpret', 'interpretation', 'interrogation', 'intervention', 'intestine', 'intestines', 'independent', 'increase', 'heating', 'inconsistent', 'honey', 'honor', 'hopefully', 'horizontal', 'hormone', 'horrendous', 'horrid', 'hospital', 'hot', 'hotel', 'human', 'humidity', 'humiliation', 'humility', 'humor', 'hundred', 'hunter', 'honesty', 'honestly', 'homophobic', 'hesitant', 'hell', 'her', 'herbal', 'heritage', 'heroic', 'heroine', 'heroism', 'hey', 'homely', 'hide', 'high', 'higher', 'hip', 'historical', 'history', 'hold back', 'hurry', 'hygiene', 'ideal', 'improvement', 'implication', 'importance', 'impress', 'impressive', 'imprisonment', 'improbable', 'improve', 'impulsive', 'implant', 'inability', 'inadequate', 'incapable', 'incident', 'income', 'incomplete', 'inconsiderate', 'implement', 'impatient', 'identical', 'illustrate', 'identification', 'ideology', 'idiotic', 'ill', 'illness', 'illogical', 'illusion', 'imaginative', 'impatience', 'imagine', 'imitate', 'immediate', 'immense', 'immoral', 'impact', 'impairment', 'issue', 'it', 'item', 'January', 'management', 'manic', 'manipulate', 'manipulative', 'mannerism', 'manners', 'many', 'margin', 'mark', 'marking', 'marriage', 'married', 'marrow', 'marry', 'marvelous', 'mask', 'mass', 'manage', 'man', 'malevolent', 'magnificent', 'lunatic', 'lung', 'lure', 'lynch', 'lyrics', 'magic', 'magical', 'maim', 'malaria', 'mainstream', 'maintain', 'majestic', 'major', 'majority', 'make up', 'making', 'massacre', 'massage', 'massive', 'meticulous', 'menstruation', 'mental', 'mental health', 'mentality', 'mentor', 'merit', 'messy', 'mighty', 'mend', 'migraine', 'mild', 'mind', 'mindset', 'minimize', 'minimum', 'minor', 'menopause', 'memorable', 'maternal', 'medic', 'mathematical', 'maybe', 'meal', 'means', 'measles', 'measure', 'media', 'medical', 'melon', 'medication', 'medicine', 'mediocre', 'meditate', 'melancholy', 'mellow', 'melody', 'lower', 'loving', 'lover', 'large', 'knuckle', 'label', 'laboratory', 'lack', 'lady', 'lament', 'lapse', 'larger', 'know', 'largest', 'later', 'latter', 'law', 'lawsuit', 'layer', 'lead', 'knowledgeable', 'knock', 'lecture', 'joyous', 'Japan', 'abduct', 'jealous', 'jellyfish', 'jewel', 'joint', 'joyful', 'Judaism', 'knee', 'judge', 'juice', 'June', 'justify', 'key', 'kick', 'kindly', 'learn', 'leg', 'lovely', 'longing', 'lipid', 'listen', 'literary', 'lively', 'liver', 'logo', 'long', 'look', 'linguistic', 'look for', 'looking', 'loom', 'lot', 'loud', 'lounge', 'lousy', 'lip', 'limited', 'legend', 'liability', 'legendary', 'lend', 'lesbian', 'lethargy', 'leukemia', 'level', 'lewd', 'liberty', 'limit', 'library', 'lieutenant', 'life jacket', 'lifestyle', 'lifetime', 'lift', 'limb', 'height', 'heat', 'dude', 'every', 'expertise', 'expire', 'explanation', 'explicit', 'explode', 'exploit', 'explosion', 'expose', 'exposure', 'exquisite', 'extra', 'extraordinary', 'extravagant', 'extreme', 'fable', 'fabulous', 'face', 'expert', 'experienced', 'expensive', 'excite', 'everything', 'evolve', 'exact', 'example', 'excellent', 'exceptional', 'excessive', 'exciting', 'expense', 'exclaim', 'executive', 'exercise', 'exile', 'existence', 'existential', 'expand', 'facial', 'facility', 'faint', 'fiber', 'feature', 'feedback', 'fence', 'festive', 'fetus', 'fever', 'fewer', 'fiction', 'favorite', 'fictional', 'field', 'fierce', 'fifteen', 'fight', 'film', 'filthy', 'fearless', 'fatty', 'fairy', 'famous', 'fairytale', 'fairy tale', 'fairy tales', 'fall apart', 'FALSE', 'fame', 'familiar', 'fandom', 'fatigue', 'fantastic', 'fantasy', 'fashion', 'faster', 'fat', 'fatal', 'fate', 'everybody', 'evaluation', 'heartfelt', 'evaluate', 'elaborate', 'elbow', 'elderly', 'elect', 'electrical', 'electronic', 'elegance', 'elegant', 'element', 'elevator', 'eleven', 'elongate', 'else', 'embarrassed', 'embrace', 'emerge', 'emergency', 'ejaculation', 'ego', 'effort', 'early', 'due', 'dumb', 'duty', 'dynamic', 'dyslexia', 'eager', 'ear', 'easygoing', 'effective', 'eccentric', 'echo', 'ecology', 'eczema', 'edgy', 'educator', 'eerie', 'empathy', 'emphasis', 'emphatic', 'erratic', 'environment', 'environmental', 'epidemic', 'equal', 'equality', 'equipment', 'erotic', 'error', 'entrance', 'escape', 'escort', 'essential', 'establish', 'eternal', 'euphoria', 'evacuate', 'entry', 'entity', 'employ', 'energy', 'employed', 'employee', 'employer', 'emulate', 'enchant', 'ending', 'energetic', 'enforcement', 'enthusiastic', 'engineer', 'England', 'enhance', 'enjoy', 'enjoyment', 'ensemble', 'entertain', 'fin', 'finale', 'finally', 'finance', 'grapes', 'grass', 'gratitude', 'grave', 'greedy', 'gregarious', 'grenade', 'grim', 'grip', 'gritty', 'groan', 'groin', 'groovy', 'grotesque', 'ground', 'grounds', 'growth', 'grandmother', 'grandfather', 'graft', 'God', 'glamorous', 'global', 'gloomy', 'glorious', 'glory', 'glossy', 'goblin', 'golden', 'gracious', 'good', 'good news', 'goofy', 'gore', 'gorgeous', 'gospel', 'government', 'guarantee', 'guideline', 'guilty', 'headband', 'harmful', 'harsh', 'hat', 'haughty', 'haunt', 'haunting', 'headache', 'headdress', 'hardworking', 'headstrong', 'healing', 'healthcare', 'healthy', 'hear', 'heart attack', 'heartbreak', 'harm', 'hard work', 'guitar', 'hairstyle', 'gullible', 'guy', 'gymnast', 'gymnastics', 'habit', 'habitat', 'hair', 'hairy', 'hard', 'half', 'hamper', 'hand out', 'handsome', 'hang', 'haphazard', 'happiness', 'give', 'ghostly', 'ghost', 'fortune', 'fond', 'fool', 'foolish', 'forest', 'forever', 'forget', 'former', 'forum', 'flu', 'four', 'fourteen', 'foyer', 'fracture', 'fragile', 'frail', 'freak', 'folk', 'flood', 'freedom', 'fit', 'financial', 'find', 'finger', 'fingernails', 'fire', 'firefighter', 'first', 'five', 'flip', 'flamboyant', 'flamingo', 'flashy', 'flat', 'flea', 'flexibility', 'flighty', 'free', 'freight', 'ghastly', 'generic', 'futile', 'gag', 'gain', 'gale', 'gay', 'gender', 'generation', 'generosity', 'funny', 'genetics', 'genitals', 'gentle', 'genus', 'geology', 'geriatric', 'get rid of', 'furious', 'funky', 'friend', 'frustrated', 'frighten', 'frightened', 'frightening', 'frivolous', 'front', 'fruit', 'frustrate', 'frustrating', 'funk', 'frustration', 'fuck', 'fucking', 'fulfill', 'fun', 'fundamental', 'fungus', 'jaw']\n",
            "716 items in intersection: ['trauma', 'something', 'kind', 'thing', 'horrific', 'emotional', 'horrible', 'really', 'experience', 'seem', 'ridiculous', 'symptom', 'nothing', 'story', 'certain', 'bring', 'suffering', 'strange', 'hilarious', 'risk', 'disease', 'therefore', 'fascinating', 'could', 'even', 'fact', 'wonder', 'horror', 'disturbing', 'often', 'grief', 'terrifying', 'cause', 'stress', 'difficulty', 'upon', 'unpleasant', 'obvious', 'way', 'might', 'particular', 'quite', 'happen', 'enable', 'serious', 'terrible', 'shocking', 'believe', 'painful', 'get', 'life', 'sort', 'always', 'heal', 'awful', 'everyone', 'want', 'rather', 'ability', 'nevertheless', 'put', 'affect', 'simply', 'whose', 'childhood', 'either', 'pregnant', 'enjoyable', 'think', 'actually', 'explore', 'certainly', 'presence', 'anyway', 'struggle', 'entertaining', 'neither', 'previous', 'still', 'possibly', 'love', 'clearly', 'almost', 'demonstrate', 'worry', 'subsequent', 'encounter', 'pointless', 'likely', 'continue', 'may', 'joy', 'already', 'aspect', 'relate', 'danger', 'remember', 'interesting', 'mistake', 'inspire', 'mysterious', 'shameful', 'suppose', 'realize', 'shock', 'define', 'topic', 'context', 'hope', 'greatest', 'remind', 'try', 'arriving', 'feel', 'surprising', 'personal', 'understand', 'person', 'circumstance', 'full', 'instead', 'emotion', 'recently', 'embarrassing', 'furthermore', 'intellectual', 'need', 'excitement', 'horrifying', 'failure', 'determine', 'behavior', 'concern', 'bad', 'awaken', 'violent', 'unexpected', 'afraid', 'sometimes', 'addition', 'advise', 'social', 'appreciate', 'regard', 'kidney', 'gruesome', 'fail', 'comment', 'health', 'obviously', 'occasionally', 'yet', 'say', 'anger', 'nature', 'animal', 'anything', 'mother', 'father', 'explain', 'unlikely', 'unfortunate', 'next', 'seeking', 'note', 'associate', 'trouble', 'especially', 'past', 'focus', 'science', 'anguish', 'where', 'hurt', 'however', 'indeed', 'world', 'help', 'witty', 'instance', 'whether', 'happy', 'hallucination', 'interest', 'method', 'afterwards', 'whatever', 'knowledge', 'late', 'least', 'little', 'besides', 'lose', 'free time', 'manner', 'view', 'expect', 'immediately', 'prevent', 'complete', 'dream', 'suddenly', 'situation', 'compare', 'depressing', 'case', 'rely', 'despite', 'choose', 'real', 'comfort', 'difficult', 'discomfort', 'similar', 'quickly', 'contribute', 'earlier', 'rest', 'condition', 'paranoia', 'useful', 'psychologist', 'annoying', 'insomnia', 'honest', 'ironic', 'attention', 'finding', 'research', 'desire', 'inappropriate', 'include', 'idea', 'moment', 'usually', 'accomplish', 'frequently', 'corpse', 'somehow', 'insane', 'like', 'information', 'consequence', 'wit', 'insist', 'aim', 'girl', 'decide', 'aid', 'joke', 'clip', 'great', 'responsible', 'hand', 'remain', 'decade', 'suspect', 'much', 'popular', 'pretend', 'brutal', 'possible', 'not sure', 'murder', 'possibility', 'official', 'tragic', 'ever', 'avoid', 'nightmare', 'today', 'enough', 'thought', 'peculiar', 'awkward', 'eat', 'perhaps', 'bent', 'poetry', 'stuffer', 'numerous', 'spite', 'unique', 'extremely', 'fear', 'probably', 'anyone', 'put together', 'less', 'perfect', 'seriously', 'read', 'take', 'people', 'initial', 'perceive', 'inherent', 'would', 'worse', 'middle', 'young', 'satisfying', 'surprise', 'miserable', 'scene', 'miss', 'tell', 'inspiration', 'imagination', 'retire', 'literature', 'reflect', 'normal', 'let', 'well', 'kill', 'unaware', 'kid', 'subject', 'weep', 'recent', 'poor', 'regret', 'location', 'nervousness', 'relationship', 'prompt', 'tough', 'touch', 'shift', 'laugh', 'mention', 'interested', 'detail', 'assume', 'go', 'girlfriend', 'get ready', 'aware', 'genuine', 'away', 'beautiful', 'better', 'forgetting', 'following', 'contain', 'contrast', 'fascinate', 'dangerous', 'depend', 'expression', 'distinction', 'dramatic', 'evident', 'drunk', 'dull', 'education', 'entirely', 'grab', 'century', 'among', 'home', 'also', 'highlight', 'unless', 'credit', 'deadly', 'reluctant', 'cultural', 'critical', 'remove', 'criminal', 'response', 'crime', 'rule', 'creativity', 'despicable', 'week', 'save', 'conversation', 'scream', 'secure', 'see', 'weather', 'contact', 'self', 'describe', 'difference', 'consistent', 'work', 'achieve', 'endure', 'end', 'emphasize', 'effect', 'picture', 'piece', 'pity', 'action', 'economic', 'activity', 'actual', 'alongside', 'admiration', 'precisely', 'document', 'present', 'afford', 'pull', 'quick', 'disappointed', 'direction', 'raise', 'different', 'sending', 'conclude', 'apply', 'usual', 'amount', 'terrify', 'basic', 'back', 'baby', 'violence', 'analyze', 'thoughtful', 'threat', 'value', 'together', 'authority', 'tend', 'useless', 'angry', 'author', 'audience', 'attribute', 'another', 'apart', 'uncomfortable', 'artistic', 'understanding', 'article', 'term', 'ten', 'wait', 'part', 'concept', 'completely', 'complain', 'common', 'someone', 'close', 'sorrow', 'specific', 'speculate', 'step', 'change', 'cell', 'best friend', 'subconscious', 'subtle', 'successful', 'suck', 'sudden', 'brief', 'suitable', 'sustain', 'vision', 'take part', 'teen', 'enter', 'ignore', 'entire', 'gang', 'full stop', 'loneliness', 'luck', 'make', 'March', 'matter', 'for sure', 'memory', 'forehead', 'follow', 'money', 'fill', 'fearful', 'myth', 'far', 'fall', 'faith', 'extensive', 'none', 'fully', 'generally', 'exist', 'legal', 'imply', 'house', 'highly', 'hero', 'hence', 'hate', 'hardship', 'intend', 'intense', 'interaction', 'job', 'gory', 'keep', 'keeping', 'gift', 'gesture', 'genre', 'lawyer', 'leave', 'nonetheless', 'zombie', 'our', 'exactly', 'outside', 'officer', 'eventually', 'examine', 'evidence', 'number', 'TRUE', 'attempt', 'awe', 'irritating', 'point', 'last', 'largely', 'language', 'jealousy', 'available', 'plan', 'place', 'old man', 'genius', 'onward', 'assert', 'opening', 'trivial', 'transform', 'notice', 'testimony', 'betray', 'broad', 'longer', 'suggestion', 'objective', 'boyfriend', 'body part', 'bite', 'beyond', 'evil', 'function', 'easy', 'tedious', 'link', 'future', 'temporary', 'draw', 'garment', 'general', 'occurrence', 'unemployment', 'graceful', 'invite', 'frequent', 'arrange', 'hole', 'inform', 'whenever', 'engage', 'whereas', 'adult', 'huge', 'wish', 'additional', 'adapt', 'woman', 'husband', 'impression', 'workshop', 'impossible', 'important', 'acknowledge', 'ensure', 'write', 'accuse', 'acceptable', 'although', 'we', 'America', 'embarrassment', 'investigate', 'interview', 'grateful', 'answer', 'absence', 'greater', 'personality', 'opinion', 'and', 'vampire', 'warn', 'veteran', 'victory', 'hardly', 'permit', 'oppose', 'heart', 'volume', 'heel', 'encourage', 'friendship', 'succumb', 'exclude', 'force', 'resource', 'respect', 'nausea', 'punishment', 'naturally', 'natural', 'creative', 'coverage', 'November', 'convey', 'music', 'disgust', 'provision', 'contemporary', 'movement', 'finish', 'distinct', 'project', 'modern', 'mob', 'send', 'navigate', 'representative', 'purchase', 'refuse', 'notion', 'except', 'ready', 'develop', 'identify', 'quality', 'despair', 'extend', 'discover', 'delight', 'negative', 'eye', 'factor', 'relation', 'curved', 'relatives', 'nervous', 'disdain', 'cry', 'crucial', 'food', 'confront', 'low', 'service', 'painting', 'distinguished', 'disturb', 'spine', 'spirited', 'spiritual', 'church', 'stage', 'steal', 'divorce', 'stiff', 'forth', 'mankind', 'stranger', 'carry', 'careful', 'business', 'lyrical', 'brown', 'brother', 'divorced', 'source', 'clear', 'meaningless', 'slavery', 'sex', 'confide', 'shatter', 'forgive', 'complicated', 'message', 'form', 'single', 'compassion', 'slight', 'sophistication', 'prior', 'somebody', 'committee', 'member', 'commence', 'meet', 'song', 'soon', 'sophisticated', 'southern']\n"
          ]
        }
      ]
    },
    {
      "cell_type": "code",
      "metadata": {
        "colab": {
          "base_uri": "https://localhost:8080/"
        },
        "id": "SFlv28866gwB",
        "outputId": "8fb0dfac-0487-4e0f-eb07-5925359f7850"
      },
      "source": [
        "clue = 'study'\n",
        "n = 5\n",
        "wordpairlist = get_wordpair_list(board_combos, 'e1_board1_words')\n",
        "target_index = wordpairlist.index(target)\n",
        "clue_index = list(sample_df[\"Word\"]).index(clue)\n",
        "\n",
        "a = literal_guesser_np('e1_board1_words', 'glove')[:,clue_index]\n",
        "y = pragmatic_speaker_np('e1_board1_words', 18.858, 0.004, 'glove')\n",
        "\n",
        "b_union = literal_guesser_candidates('e1_board1_words', 'glove', union_candidates)[:, union_candidates.index(clue)]\n",
        "c_union = pragmatic_speaker_candidates('e1_board1_words', 18.858, 0.004, 'glove', union_candidates)\n",
        "\n",
        "b_int = literal_guesser_candidates('e1_board1_words', 'glove', int_candidates)[:, int_candidates.index(clue)]\n",
        "c_int = pragmatic_speaker_candidates('e1_board1_words', 18.858, 0.004, 'glove', int_candidates)\n",
        "\n",
        "\n",
        "print(f\"for wordpair {target} and clue {clue}\")\n",
        "\n",
        "print(f\"considering literal guesser predictions....\")\n",
        "\n",
        "print(\"literal guesser prediction is:\", wordpairlist[np.argmax(a)])\n",
        "print(\"literal candidate UNION prediction is:\", wordpairlist[np.argmax(b_union)])\n",
        "print(\"literal candidate INTERSECTION prediction is:\", wordpairlist[np.argmax(b_int)])\n",
        "\n",
        "print(f\"considering pragmatic guesser predictions....\")\n",
        "\n",
        "top = y[target_index,:].argsort()[-5:][::-1].tolist()\n",
        "top_words = [list(sample_df[\"Word\"])[x] for x in top]\n",
        "print(f\"top {n} prag speaker predictions are:\", top_words)\n",
        "\n",
        "top = c_union[target_index,:].argsort()[-5:][::-1].tolist()\n",
        "top_words = [list(u.vocab_word)[x] for x in top]\n",
        "print(f\"top {n} prag candidate UNION are:\", top_words)\n",
        "\n",
        "top = c_int[target_index,:].argsort()[-5:][::-1].tolist()\n",
        "top_words = [list(i.vocab_word)[x] for x in top]\n",
        "print(f\"top {n} prag candidate INTERSECTION are:\", top_words)\n",
        "\n",
        "print(f\"considering top {n} nodes visited by union and intersection...\")\n",
        "print(f\"highly visited nodes in the union: {union_candidates[:n]}\")\n",
        "print(f\"highly visited nodes in the intersection: {int_candidates[:n]}\")\n"
      ],
      "execution_count": null,
      "outputs": [
        {
          "output_type": "stream",
          "name": "stdout",
          "text": [
            "for wordpair exam-algebra and clue study\n",
            "considering literal guesser predictions....\n",
            "literal guesser prediction is: write-better\n",
            "literal candidate UNION prediction is: write-better\n",
            "literal candidate INTERSECTION prediction is: write-better\n",
            "considering pragmatic guesser predictions....\n",
            "top 5 prag speaker predictions are: ['algebra', 'exam', 'mathematics', 'exams', 'calculus']\n",
            "top 5 prag candidate UNION are: ['algebra', 'exam', 'mathematics', 'exams', 'calculus']\n",
            "top 5 prag candidate INTERSECTION are: ['algebra', 'mathematics', 'math', 'grade', 'geometry']\n",
            "considering top 5 nodes visited by union and intersection...\n",
            "highly visited nodes in the union: ['mathematics', 'algebra', 'mathematical', 'arithmetic', 'finite']\n",
            "highly visited nodes in the intersection: ['mathematics', 'algebra', 'mathematical', 'arithmetic', 'finite']\n"
          ]
        }
      ]
    },
    {
      "cell_type": "code",
      "metadata": {
        "id": "9cqRx40xQuKS"
      },
      "source": [
        ""
      ],
      "execution_count": null,
      "outputs": []
    }
  ]
}