{
 "cells": [
  {
   "cell_type": "markdown",
   "metadata": {
    "id": "WHeTeLJhyLOR"
   },
   "source": [
    "## Import dependencies"
   ]
  },
  {
   "cell_type": "code",
   "execution_count": 1,
   "metadata": {
    "executionInfo": {
     "elapsed": 1043,
     "status": "ok",
     "timestamp": 1626112033015,
     "user": {
      "displayName": "Ketika Garg",
      "photoUrl": "https://lh3.googleusercontent.com/a-/AOh14GgT8wr2RG3H4A5DHMXURkMyAQnhpCSgBb_hAIU8cg=s64",
      "userId": "14316950690436779267"
     },
     "user_tz": 420
    },
    "id": "IZMH1eIlx_a4"
   },
   "outputs": [],
   "source": []
  },
  {
   "cell_type": "markdown",
   "metadata": {
    "id": "3rQCBYBnyjPV"
   },
   "source": [
    "## Load the data file \n",
    "this contains all the words used in the game "
   ]
  },
  {
   "cell_type": "code",
   "execution_count": 3,
   "metadata": {
    "colab": {
     "base_uri": "https://localhost:8080/"
    },
    "executionInfo": {
     "elapsed": 582,
     "status": "ok",
     "timestamp": 1626112036869,
     "user": {
      "displayName": "Ketika Garg",
      "photoUrl": "https://lh3.googleusercontent.com/a-/AOh14GgT8wr2RG3H4A5DHMXURkMyAQnhpCSgBb_hAIU8cg=s64",
      "userId": "14316950690436779267"
     },
     "user_tz": 420
    },
    "id": "FAKDvbxwymBB",
    "outputId": "b2a55deb-d711-4a68-c65e-a0b59cfb6dfd"
   },
   "outputs": [
    {
     "name": "stdout",
     "output_type": "stream",
     "text": [
      "       Word  Occurrences  Length  LgSUBTLWF\n",
      "0         a          4.0       1      6.018\n",
      "1  aardvark          NaN       8      1.000\n",
      "2    abacus          1.0       6      1.114\n",
      "3   abandon          1.0       7      2.617\n",
      "4     abbey          1.0       5      2.212\n"
     ]
    }
   ],
   "source": [
    "sample_df = pd.read_csv(\"../data/connector_final.csv\")\n",
    "indices = sample_df.index\n",
    "print(sample_df.head())"
   ]
  },
  {
   "cell_type": "markdown",
   "metadata": {
    "id": "PsUKLpReyRMa"
   },
   "source": [
    "## Load vector embeddings \n",
    "We create numpy arrays for all the different representations"
   ]
  },
  {
   "cell_type": "code",
   "execution_count": 5,
   "metadata": {
    "executionInfo": {
     "elapsed": 9481,
     "status": "ok",
     "timestamp": 1626112053581,
     "user": {
      "displayName": "Ketika Garg",
      "photoUrl": "https://lh3.googleusercontent.com/a-/AOh14GgT8wr2RG3H4A5DHMXURkMyAQnhpCSgBb_hAIU8cg=s64",
      "userId": "14316950690436779267"
     },
     "user_tz": 420
    },
    "id": "M_vOzm0Ezkeb"
   },
   "outputs": [],
   "source": [
    "##Read in GLoVe embeddings\n",
    "glovearray = read_vecs(\"../data/swow12217_glove2017wiki_vectors.csv\")\n",
    "\n",
    "##Read in SWOW embeddings\n",
    "swowarray = read_vecs(\"../data/SWOW_R123_rw_k300.csv\")\n",
    "\n",
    "##Read in BERT embeddings\n",
    "bert_sumarray = read_vecs(\"../data/bert_contextfree_sum.csv\")"
   ]
  },
  {
   "cell_type": "markdown",
   "metadata": {
    "id": "r0mlszxsz92J"
   },
   "source": [
    "Normalize these embeddings and create a similarity matrix of these vectors "
   ]
  },
  {
   "cell_type": "code",
   "execution_count": 6,
   "metadata": {
    "executionInfo": {
     "elapsed": 15,
     "status": "ok",
     "timestamp": 1626112053583,
     "user": {
      "displayName": "Ketika Garg",
      "photoUrl": "https://lh3.googleusercontent.com/a-/AOh14GgT8wr2RG3H4A5DHMXURkMyAQnhpCSgBb_hAIU8cg=s64",
      "userId": "14316950690436779267"
     },
     "user_tz": 420
    },
    "id": "9w0SsKopzoD1"
   },
   "outputs": [],
   "source": [
    "def create_similarity_matrix(matrix, vector, N):\n",
    "    matrix = 1-scipy.spatial.distance.cdist(matrix, vector, 'cosine').reshape(-1)\n",
    "    matrix = matrix.reshape((N,N))\n",
    "    matrix = stats.zscore(matrix, axis=1)\n",
    "    return matrix"
   ]
  },
  {
   "cell_type": "markdown",
   "metadata": {
    "id": "nGMcd9bY0pjN"
   },
   "source": [
    "Now we can run this function for each of the embeddings arrays, for example here with GLoVe embeddings"
   ]
  },
  {
   "cell_type": "code",
   "execution_count": 7,
   "metadata": {
    "executionInfo": {
     "elapsed": 46866,
     "status": "ok",
     "timestamp": 1626112102062,
     "user": {
      "displayName": "Ketika Garg",
      "photoUrl": "https://lh3.googleusercontent.com/a-/AOh14GgT8wr2RG3H4A5DHMXURkMyAQnhpCSgBb_hAIU8cg=s64",
      "userId": "14316950690436779267"
     },
     "user_tz": 420
    },
    "id": "bmhWrb3J0h9I"
   },
   "outputs": [],
   "source": [
    "sim_matrix_glove = create_similarity_matrix(glovearray, glovearray, glovearray.shape[0])"
   ]
  },
  {
   "cell_type": "markdown",
   "metadata": {
    "id": "Bc1XC3_v0zZu"
   },
   "source": [
    "## Load in the raw data \n",
    "This is the empirical data from the experiments"
   ]
  },
  {
   "cell_type": "code",
   "execution_count": 17,
   "metadata": {
    "id": "Rf1pp_gF04Cy"
   },
   "outputs": [],
   "source": [
    "e1e2_data = pd.read_csv(\"../data/raw_data.csv\")[[\"Subject\", \"Trial\", \"Board\", \"Word1\", \"Word2\", \"Clue1\", \"P2W1\", \"P2W2\",  \"Clue2\", \"Player2SecondAnswer.RESP\", \"Clue3\", \"Player2ThirdAnswer.RESP\", \"Player1.RT\", \"Player1SecondClue.RT\"]]\n",
    "e1e2_data[['P2_Attempt2_W1','P2_Attempt2_W2']] = e1e2_data['Player2SecondAnswer.RESP'].str.split('{-}',expand=True)\n",
    "e1e2_data[['P2_Attempt3_W1','P2_Attempt3_W2']] = e1e2_data['Player2ThirdAnswer.RESP'].str.split('{-}',expand=True)\n",
    "e1e2_data.loc[\"Word1\"] = e1e2_data[\"Word1\"].str.lower()\n",
    "e1e2_data.loc[\"Word2\"] = e1e2_data[\"Word2\"].str.lower()\n",
    "e1e2_data.loc[\"Clue1\"] = e1e2_data[\"Clue1\"].str.lower()\n",
    "e1e2_data.loc[\"Clue2\"] = e1e2_data[\"Clue2\"].str.lower()\n",
    "e1e2_data.loc[\"Clue3\"] = e1e2_data[\"Clue3\"].str.lower()"
   ]
  },
  {
   "cell_type": "markdown",
   "metadata": {
    "id": "WeIj8DFQ1XjS"
   },
   "source": [
    "Let us calculate cosine similarity between different words (Word pairs and clues provided)"
   ]
  },
  {
   "cell_type": "code",
   "execution_count": 13,
   "metadata": {
    "executionInfo": {
     "elapsed": 165,
     "status": "ok",
     "timestamp": 1626112613683,
     "user": {
      "displayName": "Ketika Garg",
      "photoUrl": "https://lh3.googleusercontent.com/a-/AOh14GgT8wr2RG3H4A5DHMXURkMyAQnhpCSgBb_hAIU8cg=s64",
      "userId": "14316950690436779267"
     },
     "user_tz": 420
    },
    "id": "pnvf5UR41gc3"
   },
   "outputs": [],
   "source": [
    "pd.options.mode.chained_assignment = None  # default='warn'\n",
    "def calculate_cosine(row, index, array, sim_matrix, which):\n",
    "    word1 = row['Word1']\n",
    "    word2 = row['Word2']\n",
    "    c1 = row['Clue1'].split('_')[0]\n",
    "    c2 = row['Clue2']\n",
    "    r1 = row['P2W1'] \n",
    "    r2 = row['P2W2']\n",
    "\n",
    "    if which == 'bert_cat':\n",
    "        n = 3072 \n",
    "    elif which == 'bert_sum':\n",
    "        n = 768\n",
    "    elif which == 'swow':\n",
    "        n = 299\n",
    "    else:\n",
    "        n = 300\n",
    "\n",
    "    w = [word1, word2, c1, c2, r1, r2]\n",
    "    word_indices2 =  np.empty(6)\n",
    "    word_indices2[:] = np.nan\n",
    "    word_indices2 = word_indices2.astype(object)\n",
    "\n",
    "    for z in range(len(w)):\n",
    "        final_df = sample_df[sample_df['Word'].isin([w[z]])]\n",
    "        if len(final_df) > 0 :\n",
    "            word_indices2[z] = list(final_df.index)[0]\n",
    "\n",
    "    if np.isnan(word_indices2[0]) == False and np.isnan(word_indices2[1]) == False and np.isnan(word_indices2[2]) == False:\n",
    "        worda_vector = array[word_indices2[0]]\n",
    "        wordb_vector = array[word_indices2[1]]\n",
    "        clue1_vector = array[word_indices2[2]]\n",
    "\n",
    "        ##create a new vector by adding word1 and word2 vectos \n",
    "        sum_vector = (worda_vector + wordb_vector)\n",
    "        sum_vector = sum_vector.reshape((1,n))\n",
    "        ##calculate a normalized similarity matrix between the new vector and the array\n",
    "        sum_sim_matrix = 1-scipy.spatial.distance.cdist(array, sum_vector, 'cosine').reshape(-1)\n",
    "        sum_sim_matrix = stats.zscore(sum_sim_matrix)\n",
    "        \n",
    "        ##create a new column in the dataframe based on which vector embeddings you are using \n",
    "        ##this column will tell the cosine similarity between Word1+Word2 average vector and Clue1 \n",
    "        col = 'w1w2_c1' + '_' + str(which)\n",
    "        e1e2_data[col][index] = float(sum_sim_matrix[word_indices2[2]])\n",
    "\n",
    "    # Let us look at Clue2\n",
    "    # Now let us create an average vector with Word1, Word2 and Clue1 \n",
    "    if np.isnan(word_indices2[3]) == False:\n",
    "        sum_vector2 = (worda_vector + wordb_vector + clue1_vector)\n",
    "        sum_vector2 = sum_vector2.reshape((1,n))\n",
    "        sum_sim_matrix2 = 1-scipy.spatial.distance.cdist(array, sum_vector2, 'cosine').reshape(-1)\n",
    "        sum_sim_matrix2 = stats.zscore(sum_sim_matrix2)\n",
    "        ##this column will tell the cosine similarity between Word1+Word2 average vector and Clue2\n",
    "        col = 'w1w2_c2' + '_' + str(which)\n",
    "        e1e2_data[col][index] = float(sum_sim_matrix[word_indices2[3]])\n",
    "        ##this column will tell the cosine similarity between Word1+Word2+Clue1 average vector and Clue2\n",
    "        col = 'w1w2c1_c2' + '_' + str(which)\n",
    "        e1e2_data[col][index] = float(sum_sim_matrix2[word_indices2[3]])\n",
    "\n",
    "    d_w1 = []\n",
    "    d_w2 = []\n",
    "    d_c1 =[]\n",
    "    d_c2 =[]\n",
    "    d_r1 = []\n",
    "    d_r2 = []\n",
    "      ##let us calculate cosine between w1 and w2\n",
    "    col = 'w1w2' + '_' + str(which)\n",
    "    if (np.isnan(word_indices2[0]) == False) and (np.isnan(word_indices2[1]) == False):\n",
    "        w1w2 = sim_matrix[word_indices2[0],word_indices2[1]]\n",
    "\n",
    "        e1e2_data[col][index] = float(w1w2)\n",
    "    else :\n",
    "    \n",
    "        e1e2_data[col][index] = np.nan\n",
    "    ##let us calculate cosine between clue1 and clue2\n",
    "    col = 'c1c2' + '_' + str(which)\n",
    "    if (np.isnan(word_indices2[2]) == False) and (np.isnan(word_indices2[3]) == False):\n",
    "        w1w2 = sim_matrix[word_indices2[2],word_indices2[3]]\n",
    "    \n",
    "        e1e2_data[col][index] = float(w1w2)\n",
    "    else :\n",
    "        e1e2_data[col][index] = np.nan\n",
    "\n",
    "    ##let us calculate cosine between word1 and c1 \n",
    "    col = 'w1c1' + '_' + str(which)\n",
    "    if (np.isnan(word_indices2[0]) == False) and (np.isnan(word_indices2[2]) == False):\n",
    "        w1w2 = sim_matrix[word_indices2[0],word_indices2[2]]\n",
    "\n",
    "        e1e2_data[col][index] = float(w1w2)\n",
    "    else :\n",
    "        e1e2_data[col][index] = np.nan\n",
    "  \n",
    "    #let us calculate cosine between word1 and clue2 \n",
    "    col = 'w1c2' + '_' + str(which)\n",
    "    if (np.isnan(word_indices2[0]) == False) and (np.isnan(word_indices2[3]) == False):\n",
    "        w1w2 = sim_matrix[word_indices2[0],word_indices2[3]]\n",
    "        e1e2_data[col][index] = float(w1w2)\n",
    "    else :\n",
    "        e1e2_data[col][index] = np.nan\n",
    "\n",
    "##let us calculate cosine between word2 and clue1 \n",
    "    col = 'w2c1' + '_' + str(which)\n",
    "    if (np.isnan(word_indices2[1]) == False) and (np.isnan(word_indices2[2]) == False):\n",
    "        w1w2 = sim_matrix[word_indices2[1],word_indices2[2]]\n",
    "        e1e2_data[col][index] = float(w1w2)\n",
    "    else :\n",
    "        e1e2_data[col][index] = np.nan\n",
    "\n",
    "###let us calculate cosine between word2 and clue2\n",
    "    col = 'w2c2' + '_' + str(which)\n",
    "    if (np.isnan(word_indices2[1]) == False) and (np.isnan(word_indices2[3]) == False):\n",
    "        w1w2 = sim_matrix[word_indices2[1],word_indices2[3]]\n",
    "\n",
    "        e1e2_data[col][index] = float(w1w2)\n",
    "    else :\n",
    "        e1e2_data[col][index] = np.nan\n",
    "\n",
    "    ###let us calculate cosine between the guesser responses (r1, r2) and word pair (w1, w2) \n",
    "    if which == 'glove' :\n",
    "        if (np.isnan(word_indices2[0]) == False) and (np.isnan(word_indices2[4]) == False):\n",
    "            r1_w1 = sim_matrix[word_indices2[0],word_indices2[4]]\n",
    "            col = 'r1w1' + '_' + str(which)\n",
    "            e1e2_data[col][index] = float(r1_w1)\n",
    "        else :\n",
    "            e1e2_data[col][index] = np.nan\n",
    "        \n",
    "        if (np.isnan(word_indices2[1]) == False) and (np.isnan(word_indices2[5]) == False):\n",
    "            r2_w2 = sim_matrix[word_indices2[1],word_indices2[5]]\n",
    "            col = 'r2w2' + '_' + str(which)\n",
    "            e1e2_data[col][index] = float(r2_w2)\n",
    "        else :\n",
    "            e1e2_data[col][index] = np.nan\n",
    "        \n",
    "        if (np.isnan(word_indices2[1]) == False) and (np.isnan(word_indices2[4]) == False):\n",
    "            r1_w2 = sim_matrix[word_indices2[1],word_indices2[4]]\n",
    "            col = 'r1w2' + '_' + str(which)\n",
    "            e1e2_data[col][index] = float(r1_w2)\n",
    "        else :\n",
    "            e1e2_data[col][index] = np.nan\n",
    "        \n",
    "        if (np.isnan(word_indices2[0]) == False) and (np.isnan(word_indices2[5]) == False):\n",
    "            r2_w1 = sim_matrix[word_indices2[0],word_indices2[5]]\n",
    "            col = 'r2w1' + '_' + str(which)\n",
    "            e1e2_data[col][index] = float(r2_w1)\n",
    "        else :\n",
    "            e1e2_data[col][index] = np.nan"
   ]
  },
  {
   "cell_type": "code",
   "execution_count": null,
   "metadata": {
    "id": "P734dJXm2yTH"
   },
   "outputs": [],
   "source": [
    "for i in ['glove', 'bert_sum', 'swow']:\n",
    "    p = 'w1w2' + '_' + i\n",
    "    e1e2_data[p] = \"\"\n",
    "    p = 'c1c2' + '_' + i\n",
    "    e1e2_data[p]= \"\"\n",
    "    p = 'w1c1' + '_' + i\n",
    "    e1e2_data[p]= \"\"\n",
    "    p = 'w1c2' + '_' + i\n",
    "    e1e2_data[p]= \"\"\n",
    "    p = 'w2c1' + '_' + i\n",
    "    e1e2_data[p]= \"\"\n",
    "    p = 'w2c2' + '_' + i\n",
    "    e1e2_data[p]= \"\"\n",
    "    p = 'w1w2_c1' + '_' + i\n",
    "    e1e2_data[p]= \"\"\n",
    "    p = 'w1w2_c2' + '_' + i\n",
    "    e1e2_data[p]= \"\"\n",
    "    p = 'w1w2c1_c2' + '_' + i\n",
    "    e1e2_data[p]= \"\"\n",
    "    p = 'r1w1' + '_' + i \n",
    "    e1e2_data[p]= \"\"\n",
    "    p = 'r1w2' + '_' + i \n",
    "    e1e2_data[p]= \"\"\n",
    "    p = 'r2w1' + '_' + i \n",
    "    e1e2_data[p]= \"\"\n",
    "    p = 'r2w2' + '_' + i \n",
    "    e1e2_data[p]= \"\"\n",
    "\n",
    "    print(i)\n",
    "    arr = i+'array'\n",
    "    mat = 'sim_matrix' + '_' + i\n",
    "    for index, row in e1e2_data.iterrows():\n",
    "        if pd.isna(row['Clue1']) == False :\n",
    "            similarity_forboard(row, index, eval(arr), eval(mat), i)\n"
   ]
  },
  {
   "cell_type": "markdown",
   "metadata": {
    "id": "gZhD3hkU4LkN"
   },
   "source": [
    "Divide word pairs based on their cosine category, as low and high based on their medians:"
   ]
  },
  {
   "cell_type": "code",
   "execution_count": null,
   "metadata": {
    "id": "P2HUIOa84cEE"
   },
   "outputs": [],
   "source": [
    "e1e2_data['w1w2_bert_sum'].median(), e1e2_data['w1w2_glove'].median(), e1e2_data['w1w2_swow'].median()"
   ]
  },
  {
   "cell_type": "code",
   "execution_count": null,
   "metadata": {
    "id": "lUhvFVjq4TgQ"
   },
   "outputs": [],
   "source": [
    "e1e2_data['cosine_category_bert_sum'] = e1e2_data.apply(lambda x: 'Low' if  x['w1w2_bert_sum'] <= 0.63 else 'High' , axis=1)\n",
    "e1e2_data['cosine_category_swow'] = e1e2_data.apply(lambda x: 'Low' if  x['w1w2_swow'] <= -0.18 else 'High' , axis=1)\n",
    "e1e2_data['cosine_category_glove'] = e1e2_data.apply(lambda x: 'Low' if  x['w1w2_glove'] <= 0.91 else 'High' , axis=1)"
   ]
  },
  {
   "cell_type": "markdown",
   "metadata": {
    "id": "T0lgrhFt45cB"
   },
   "source": [
    "Let us add in columns regarding Guessed and Unguessed words for Clue2"
   ]
  },
  {
   "cell_type": "code",
   "execution_count": null,
   "metadata": {
    "id": "sFDyWiER5Mrx"
   },
   "outputs": [],
   "source": [
    "e1e2_data['guessedwordc1'] = \"\"\n",
    "e1e2_data['unguessedwordc1'] = \"\"\n",
    "e1e2_data['guessedwordc2'] = \"\"\n",
    "e1e2_data['unguessedwordc2'] = \"\"\n",
    "e1e2_data['onewordguessed'] = \"\"\n",
    "pd.options.mode.chained_assignment = None  # default='warn'\n",
    "\n",
    "for j in ['glove', 'swow', 'bert_sum'] : \n",
    "    e1e2_data['guessedwordc1_'+j] = \"\"\n",
    "    e1e2_data['unguessedwordc1_'+j] = \"\"\n",
    "    e1e2_data['guessedwordc2_'+j] = \"\"\n",
    "    e1e2_data['unguessedwordc2_'+j] = \"\"\n",
    "    for index,row in e1e2_data.iterrows() :\n",
    "      # if (row['r1w1_glove'] == 1) or (row['r2w1_glove'] == 1):\n",
    "        if (row['Word1'] == row['P2W1']) or (row['Word1'] == row['P2W2']) :\n",
    "            if (row['Word2'] != row['P2W1']) and (row['Word2'] != row['P2W2']):\n",
    "                e1e2_data['onewordguessed'][index] = 'Yes'\n",
    "                if np.isnan(row['w1c1_'+j]) == False:\n",
    "                    e1e2_data['guessedwordc1_'+j][index] = float(row['w1c1_'+j])\n",
    "                if np.isnan(row['w2c1_'+j]) == False:\n",
    "                    e1e2_data['unguessedwordc1_'+j][index] = float(row['w2c1_'+j])\n",
    "                if np.isnan(row['w1c2_'+j]) == False:\n",
    "                    e1e2_data['guessedwordc2_'+j][index] = float(row['w1c2_'+j])\n",
    "                if np.isnan(row['w2c2_'+j]) == False:\n",
    "                    e1e2_data['unguessedwordc2_'+j][index] = float(row['w2c2_'+j])\n",
    "\n",
    "        elif (row['Word2'] == row['P2W1']) or (row['Word2'] == row['P2W2']) :\n",
    "            if (row['Word1'] != row['P2W1']) and (row['Word1'] != row['P2W2']):\n",
    "                e1e2_data['onewordguessed'][index] = 'Yes'\n",
    "                if np.isnan(row['w1c1_'+j]) == False:\n",
    "                    e1e2_data['unguessedwordc1_'+j][index] = float(row['w1c1_'+j])\n",
    "                if np.isnan(row['w2c1_'+j]) == False:\n",
    "                    e1e2_data['guessedwordc1_'+j][index] = float(row['w2c1_'+j])\n",
    "                if np.isnan(row['w1c2_'+j]) == False:\n",
    "                    e1e2_data['unguessedwordc2_'+j][index] = float(row['w1c2_'+j])\n",
    "                if np.isnan(row['w2c2_'+j]) == False:\n",
    "                    e1e2_data['guessedwordc2_'+j][index] = float(row['w2c2_'+j])\n",
    "\n",
    "        if ((row['Word2'] != row['P2W1']) \n",
    "            and (row['Word2'] != row['P2W2']) \n",
    "            and (row['Word1'] == row['P2W1']) \n",
    "            and (row['Word1'] == row['P2W2'])):\n",
    "            e1e2_data['onewordguessed'][index] = 'No'"
   ]
  },
  {
   "cell_type": "markdown",
   "metadata": {
    "id": "9NEOfxWb5UWv"
   },
   "source": [
    "We can save this dataframe now "
   ]
  },
  {
   "cell_type": "code",
   "execution_count": null,
   "metadata": {
    "id": "XLL8syX75Wkb"
   },
   "outputs": [],
   "source": [
    "e1e2_data = e1e2_data.replace(r'^\\s*$', np.nan, regex=True)\n",
    "e1e2_data.to_csv(\"../data/e1e2_allvectors_znorm.csv\")"
   ]
  },
  {
   "cell_type": "markdown",
   "metadata": {
    "id": "KW0rqSe_5lfk"
   },
   "source": [
    "To make figures, we can create a new dataframe from this one "
   ]
  },
  {
   "cell_type": "code",
   "execution_count": 21,
   "metadata": {
    "colab": {
     "base_uri": "https://localhost:8080/",
     "height": 206
    },
    "executionInfo": {
     "elapsed": 825,
     "status": "ok",
     "timestamp": 1626113406046,
     "user": {
      "displayName": "Ketika Garg",
      "photoUrl": "https://lh3.googleusercontent.com/a-/AOh14GgT8wr2RG3H4A5DHMXURkMyAQnhpCSgBb_hAIU8cg=s64",
      "userId": "14316950690436779267"
     },
     "user_tz": 420
    },
    "id": "2p3_KPEX5qF2",
    "outputId": "46b106c6-db36-4d3b-d9be-e1a9a152b58d"
   },
   "outputs": [
    {
     "data": {
      "text/html": [
       "<div>\n",
       "<style scoped>\n",
       "    .dataframe tbody tr th:only-of-type {\n",
       "        vertical-align: middle;\n",
       "    }\n",
       "\n",
       "    .dataframe tbody tr th {\n",
       "        vertical-align: top;\n",
       "    }\n",
       "\n",
       "    .dataframe thead th {\n",
       "        text-align: right;\n",
       "    }\n",
       "</style>\n",
       "<table border=\"1\" class=\"dataframe\">\n",
       "  <thead>\n",
       "    <tr style=\"text-align: right;\">\n",
       "      <th></th>\n",
       "      <th>Clue</th>\n",
       "      <th>Vector</th>\n",
       "      <th>c1c2</th>\n",
       "      <th>Word1</th>\n",
       "      <th>Word2</th>\n",
       "      <th>Word1-Word2 Avg</th>\n",
       "      <th>W1-W2 Cosine</th>\n",
       "      <th>w1w2c1</th>\n",
       "      <th>id</th>\n",
       "    </tr>\n",
       "  </thead>\n",
       "  <tbody>\n",
       "    <tr>\n",
       "      <th>0</th>\n",
       "      <td>Clue1</td>\n",
       "      <td>glove</td>\n",
       "      <td>NaN</td>\n",
       "      <td>0.140821</td>\n",
       "      <td>2.990684</td>\n",
       "      <td>1.843219</td>\n",
       "      <td>Low</td>\n",
       "      <td>NaN</td>\n",
       "      <td>0</td>\n",
       "    </tr>\n",
       "    <tr>\n",
       "      <th>1</th>\n",
       "      <td>Clue2</td>\n",
       "      <td>glove</td>\n",
       "      <td>0.665793</td>\n",
       "      <td>2.023770</td>\n",
       "      <td>0.992467</td>\n",
       "      <td>2.032058</td>\n",
       "      <td>Low</td>\n",
       "      <td>1.578827</td>\n",
       "      <td>0</td>\n",
       "    </tr>\n",
       "    <tr>\n",
       "      <th>2</th>\n",
       "      <td>Clue1</td>\n",
       "      <td>swow</td>\n",
       "      <td>NaN</td>\n",
       "      <td>-0.135192</td>\n",
       "      <td>-0.635905</td>\n",
       "      <td>-0.581890</td>\n",
       "      <td>High</td>\n",
       "      <td>NaN</td>\n",
       "      <td>0</td>\n",
       "    </tr>\n",
       "    <tr>\n",
       "      <th>3</th>\n",
       "      <td>Clue2</td>\n",
       "      <td>swow</td>\n",
       "      <td>0.060962</td>\n",
       "      <td>-0.513553</td>\n",
       "      <td>-0.445894</td>\n",
       "      <td>-0.651236</td>\n",
       "      <td>High</td>\n",
       "      <td>-0.514006</td>\n",
       "      <td>0</td>\n",
       "    </tr>\n",
       "    <tr>\n",
       "      <th>4</th>\n",
       "      <td>Clue1</td>\n",
       "      <td>bert_sum</td>\n",
       "      <td>NaN</td>\n",
       "      <td>0.745487</td>\n",
       "      <td>1.188064</td>\n",
       "      <td>1.047613</td>\n",
       "      <td>Low</td>\n",
       "      <td>NaN</td>\n",
       "      <td>0</td>\n",
       "    </tr>\n",
       "  </tbody>\n",
       "</table>\n",
       "</div>"
      ],
      "text/plain": [
       "    Clue    Vector      c1c2  ...  W1-W2 Cosine    w1w2c1  id\n",
       "0  Clue1     glove       NaN  ...           Low       NaN   0\n",
       "1  Clue2     glove  0.665793  ...           Low  1.578827   0\n",
       "2  Clue1      swow       NaN  ...          High       NaN   0\n",
       "3  Clue2      swow  0.060962  ...          High -0.514006   0\n",
       "4  Clue1  bert_sum       NaN  ...           Low       NaN   0\n",
       "\n",
       "[5 rows x 9 columns]"
      ]
     },
     "execution_count": 21,
     "metadata": {
      "tags": []
     },
     "output_type": "execute_result"
    }
   ],
   "source": [
    "clue=[]\n",
    "word1=[]\n",
    "word2=[]\n",
    "w1w2=[]\n",
    "category=[]\n",
    "guessed=[]\n",
    "w1_w2 = []\n",
    "id = []\n",
    "c1c2=[]\n",
    "vector = []\n",
    "\n",
    "for index,row in e1e2_data.iterrows() :\n",
    "    for j in ['glove', 'swow', 'bert_sum'] :\n",
    "        # for k in ['Low', 'High']\n",
    "        clue.append('Clue1')\n",
    "\n",
    "        word1.append(row['w1c1_'+j])\n",
    "        word2.append(row['w2c1_'+j])\n",
    "        w1w2.append(row['w1w2_c1_'+j])\n",
    "        category.append(row['cosine_category_'+j])\n",
    "        # guessed.append(row['onewordguessed'])\n",
    "        # if row['cosine_category_'+j] == 'Low':\n",
    "          # vector.append(j+'low')\n",
    "        # elif row['cosine_category_'+j] == 'High':\n",
    "          # vector.append(j+'high')\n",
    "        vector.append(j)\n",
    "        w1_w2.append(np.nan)\n",
    "        id.append(index)\n",
    "        c1c2.append(np.nan)\n",
    "\n",
    "        clue.append('Clue2')\n",
    "        word1.append(row['w1c2_'+j])\n",
    "        word2.append(row['w2c2_'+j])\n",
    "        w1w2.append(row['w1w2_c2_'+j])\n",
    "        category.append(row['cosine_category_'+j])\n",
    "        # guessed.append(row['onewordguessed'])\n",
    "        w1_w2.append(row['w1w2c1_c2_'+j])\n",
    "        c1c2.append(row['c1c2_'+j])\n",
    "        vector.append(j)\n",
    "        # if row['cosine_category_'+j] == 'Low':\n",
    "        #   vector.append(j+'low')\n",
    "        # elif row['cosine_category_'+j] == 'High':\n",
    "        #   vector.append(j+'high')\n",
    "        id.append(index)\n",
    "\n",
    "for_plots = pd.DataFrame({'Clue': clue, 'Vector':vector, 'c1c2':c1c2, 'Word1': word1, 'Word2': word2, 'Word1-Word2 Avg': w1w2, 'W1-W2 Cosine':category, 'w1w2c1':w1_w2, 'id':id})\n",
    "for_plots.head()"
   ]
  },
  {
   "cell_type": "code",
   "execution_count": 22,
   "metadata": {
    "colab": {
     "base_uri": "https://localhost:8080/",
     "height": 206
    },
    "executionInfo": {
     "elapsed": 207,
     "status": "ok",
     "timestamp": 1626113410601,
     "user": {
      "displayName": "Ketika Garg",
      "photoUrl": "https://lh3.googleusercontent.com/a-/AOh14GgT8wr2RG3H4A5DHMXURkMyAQnhpCSgBb_hAIU8cg=s64",
      "userId": "14316950690436779267"
     },
     "user_tz": 420
    },
    "id": "MZPxJP2Y6LK6",
    "outputId": "cc6c1d0b-5f10-460f-9fc3-fd053878ad62"
   },
   "outputs": [
    {
     "data": {
      "text/html": [
       "<div>\n",
       "<style scoped>\n",
       "    .dataframe tbody tr th:only-of-type {\n",
       "        vertical-align: middle;\n",
       "    }\n",
       "\n",
       "    .dataframe tbody tr th {\n",
       "        vertical-align: top;\n",
       "    }\n",
       "\n",
       "    .dataframe thead th {\n",
       "        text-align: right;\n",
       "    }\n",
       "</style>\n",
       "<table border=\"1\" class=\"dataframe\">\n",
       "  <thead>\n",
       "    <tr style=\"text-align: right;\">\n",
       "      <th></th>\n",
       "      <th>Clue</th>\n",
       "      <th>Vector</th>\n",
       "      <th>W1-W2 Cosine</th>\n",
       "      <th>id</th>\n",
       "      <th>c1c2</th>\n",
       "      <th>w1w2c1</th>\n",
       "      <th>variable</th>\n",
       "      <th>value</th>\n",
       "    </tr>\n",
       "  </thead>\n",
       "  <tbody>\n",
       "    <tr>\n",
       "      <th>0</th>\n",
       "      <td>Clue1</td>\n",
       "      <td>glove</td>\n",
       "      <td>Low</td>\n",
       "      <td>0</td>\n",
       "      <td>NaN</td>\n",
       "      <td>NaN</td>\n",
       "      <td>Word1</td>\n",
       "      <td>0.140821</td>\n",
       "    </tr>\n",
       "    <tr>\n",
       "      <th>1</th>\n",
       "      <td>Clue2</td>\n",
       "      <td>glove</td>\n",
       "      <td>Low</td>\n",
       "      <td>0</td>\n",
       "      <td>0.665793</td>\n",
       "      <td>1.578827</td>\n",
       "      <td>Word1</td>\n",
       "      <td>2.023770</td>\n",
       "    </tr>\n",
       "    <tr>\n",
       "      <th>2</th>\n",
       "      <td>Clue1</td>\n",
       "      <td>swow</td>\n",
       "      <td>High</td>\n",
       "      <td>0</td>\n",
       "      <td>NaN</td>\n",
       "      <td>NaN</td>\n",
       "      <td>Word1</td>\n",
       "      <td>-0.135192</td>\n",
       "    </tr>\n",
       "    <tr>\n",
       "      <th>3</th>\n",
       "      <td>Clue2</td>\n",
       "      <td>swow</td>\n",
       "      <td>High</td>\n",
       "      <td>0</td>\n",
       "      <td>0.060962</td>\n",
       "      <td>-0.514006</td>\n",
       "      <td>Word1</td>\n",
       "      <td>-0.513553</td>\n",
       "    </tr>\n",
       "    <tr>\n",
       "      <th>4</th>\n",
       "      <td>Clue1</td>\n",
       "      <td>bert_sum</td>\n",
       "      <td>Low</td>\n",
       "      <td>0</td>\n",
       "      <td>NaN</td>\n",
       "      <td>NaN</td>\n",
       "      <td>Word1</td>\n",
       "      <td>0.745487</td>\n",
       "    </tr>\n",
       "  </tbody>\n",
       "</table>\n",
       "</div>"
      ],
      "text/plain": [
       "    Clue    Vector W1-W2 Cosine  id      c1c2    w1w2c1 variable     value\n",
       "0  Clue1     glove          Low   0       NaN       NaN    Word1  0.140821\n",
       "1  Clue2     glove          Low   0  0.665793  1.578827    Word1  2.023770\n",
       "2  Clue1      swow         High   0       NaN       NaN    Word1 -0.135192\n",
       "3  Clue2      swow         High   0  0.060962 -0.514006    Word1 -0.513553\n",
       "4  Clue1  bert_sum          Low   0       NaN       NaN    Word1  0.745487"
      ]
     },
     "execution_count": 22,
     "metadata": {
      "tags": []
     },
     "output_type": "execute_result"
    }
   ],
   "source": [
    "df = for_plots.melt(id_vars=[\"Clue\", \"Vector\", \"W1-W2 Cosine\",  \"id\", \"c1c2\", \"w1w2c1\"])\n",
    "df.head()"
   ]
  },
  {
   "cell_type": "code",
   "execution_count": 23,
   "metadata": {
    "colab": {
     "base_uri": "https://localhost:8080/",
     "height": 300
    },
    "executionInfo": {
     "elapsed": 1830,
     "status": "ok",
     "timestamp": 1626113423085,
     "user": {
      "displayName": "Ketika Garg",
      "photoUrl": "https://lh3.googleusercontent.com/a-/AOh14GgT8wr2RG3H4A5DHMXURkMyAQnhpCSgBb_hAIU8cg=s64",
      "userId": "14316950690436779267"
     },
     "user_tz": 420
    },
    "id": "7Cx2Lft-6BkC",
    "outputId": "8e5493d9-6499-4593-f5bb-ae3271e22441"
   },
   "outputs": [
    {
     "data": {
      "text/plain": [
       "<Figure size 864x576 with 0 Axes>"
      ]
     },
     "metadata": {
      "tags": []
     },
     "output_type": "display_data"
    },
    {
     "data": {
      "image/png": "[encoded data removed]",
      "text/plain": [
       "<Figure size 662.4x288 with 2 Axes>"
      ]
     },
     "metadata": {
      "tags": []
     },
     "output_type": "display_data"
    }
   ],
   "source": [
    "sns.set(font_scale= 1.15)\n",
    "plt.figure(figsize=(12,8))\n",
    "\n",
    "sns.set_style(\"white\")\n",
    "plt.rcParams[\"font.weight\"] = \"bold\"\n",
    "plt.rcParams[\"axes.labelweight\"] = \"bold\"\n",
    "o = ['glove', 'bert_sum', 'swow']\n",
    "\n",
    "g = sns.catplot(data=df, x='variable', y='value', col='Clue', style = 'W1-W2 Cosine', hue='Vector',  kind='point', palette={'glove':'b', 'bert_sum':'r', 'swow':'orange'}, height=4, aspect=1.15, legend=False, sharex=False, hue_order = o  )\n",
    "g.set_ylabels('Cosine Similarity (z-score)')\n",
    "g.fig.tight_layout()\n",
    "plt.subplots_adjust(hspace=0.4, wspace=0.05)\n",
    "plt.legend(loc='upper left')\n",
    "\n",
    "g.set_axis_labels('Vectors')\n",
    "g.axes[0,0].set_xticklabels([\"W1\", \"W2\", \"W1+W2\"],  va=\"center\", fontsize=\"10\")\n",
    "g.axes[0,1].set_xticklabels([\"W1\", \"W2\", \"W1+W2\", \"W1+W2+C1\"],  va=\"center\", fontsize=\"10\")\n",
    "axes = g.axes.flatten()\n",
    "axes[0].set_title(\"Clue 1\", weight='bold')\n",
    "axes[1].set_title(\"Clue 2\", weight='bold')\n",
    "\n",
    "L=plt.legend(frameon=True, loc='upper center', bbox_to_anchor=(-0.2,1))\n",
    "L.get_texts()[0].set_text('GloVe')\n",
    "L.get_texts()[1].set_text('BERT')\n",
    "L.get_texts()[2].set_text('SWOW')"
   ]
  },
  {
   "cell_type": "code",
   "execution_count": null,
   "metadata": {
    "id": "9c0d0Cwi6a7O"
   },
   "outputs": [],
   "source": []
  }
 ],
 "metadata": {
  "colab": {
   "authorship_tag": "ABX9TyONw6+ZVx6Eq0Epz0+Qebm5",
   "name": "descriptive_results.ipynb",
   "provenance": []
  },
  "kernelspec": {
   "display_name": "Python 3",
   "language": "python",
   "name": "python3"
  },
  "language_info": {
   "codemirror_mode": {
    "name": "ipython",
    "version": 3
   },
   "file_extension": ".py",
   "mimetype": "text/x-python",
   "name": "python",
   "nbconvert_exporter": "python",
   "pygments_lexer": "ipython3",
   "version": "3.9.1"
  }
 },
 "nbformat": 4,
 "nbformat_minor": 4
}
